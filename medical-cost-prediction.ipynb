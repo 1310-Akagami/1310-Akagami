{
 "cells": [
  {
   "cell_type": "code",
   "execution_count": 1,
   "id": "4b2c39c0",
   "metadata": {
    "execution": {
     "iopub.execute_input": "2024-10-31T17:19:45.957525Z",
     "iopub.status.busy": "2024-10-31T17:19:45.956989Z",
     "iopub.status.idle": "2024-10-31T17:19:47.020769Z",
     "shell.execute_reply": "2024-10-31T17:19:47.019376Z"
    },
    "papermill": {
     "duration": 1.079495,
     "end_time": "2024-10-31T17:19:47.023852",
     "exception": false,
     "start_time": "2024-10-31T17:19:45.944357",
     "status": "completed"
    },
    "tags": []
   },
   "outputs": [
    {
     "name": "stdout",
     "output_type": "stream",
     "text": [
      "/kaggle/input/insurance/insurance.csv\n"
     ]
    }
   ],
   "source": [
    "# This Python 3 environment comes with many helpful analytics libraries installed\n",
    "# It is defined by the kaggle/python Docker image: https://github.com/kaggle/docker-python\n",
    "# For example, here's several helpful packages to load\n",
    "\n",
    "import numpy as np # linear algebra\n",
    "import pandas as pd # data processing, CSV file I/O (e.g. pd.read_csv)\n",
    "\n",
    "# Input data files are available in the read-only \"../input/\" directory\n",
    "# For example, running this (by clicking run or pressing Shift+Enter) will list all files under the input directory\n",
    "\n",
    "import os\n",
    "for dirname, _, filenames in os.walk('/kaggle/input'):\n",
    "    for filename in filenames:\n",
    "        print(os.path.join(dirname, filename))\n",
    "\n",
    "# You can write up to 20GB to the current directory (/kaggle/working/) that gets preserved as output when you create a version using \"Save & Run All\" \n",
    "# You can also write temporary files to /kaggle/temp/, but they won't be saved outside of the current session"
   ]
  },
  {
   "cell_type": "code",
   "execution_count": 2,
   "id": "c900b82c",
   "metadata": {
    "execution": {
     "iopub.execute_input": "2024-10-31T17:19:47.046158Z",
     "iopub.status.busy": "2024-10-31T17:19:47.045577Z",
     "iopub.status.idle": "2024-10-31T17:19:48.886055Z",
     "shell.execute_reply": "2024-10-31T17:19:48.884489Z"
    },
    "papermill": {
     "duration": 1.855281,
     "end_time": "2024-10-31T17:19:48.889449",
     "exception": false,
     "start_time": "2024-10-31T17:19:47.034168",
     "status": "completed"
    },
    "tags": []
   },
   "outputs": [],
   "source": [
    "from sklearn.model_selection import GridSearchCV,train_test_split,cross_val_score\n",
    "from sklearn.svm import SVR\n",
    "from sklearn.preprocessing import LabelEncoder\n",
    "from sklearn.metrics import mean_squared_error,mean_absolute_error,r2_score"
   ]
  },
  {
   "cell_type": "code",
   "execution_count": 3,
   "id": "c5ad8e18",
   "metadata": {
    "execution": {
     "iopub.execute_input": "2024-10-31T17:19:48.911893Z",
     "iopub.status.busy": "2024-10-31T17:19:48.911310Z",
     "iopub.status.idle": "2024-10-31T17:19:48.937283Z",
     "shell.execute_reply": "2024-10-31T17:19:48.936213Z"
    },
    "papermill": {
     "duration": 0.040206,
     "end_time": "2024-10-31T17:19:48.940093",
     "exception": false,
     "start_time": "2024-10-31T17:19:48.899887",
     "status": "completed"
    },
    "tags": []
   },
   "outputs": [],
   "source": [
    "df= pd.read_csv('/kaggle/input/insurance/insurance.csv')"
   ]
  },
  {
   "cell_type": "code",
   "execution_count": 4,
   "id": "eb1597bd",
   "metadata": {
    "execution": {
     "iopub.execute_input": "2024-10-31T17:19:48.962955Z",
     "iopub.status.busy": "2024-10-31T17:19:48.961836Z",
     "iopub.status.idle": "2024-10-31T17:19:48.995088Z",
     "shell.execute_reply": "2024-10-31T17:19:48.993821Z"
    },
    "papermill": {
     "duration": 0.047763,
     "end_time": "2024-10-31T17:19:48.997986",
     "exception": false,
     "start_time": "2024-10-31T17:19:48.950223",
     "status": "completed"
    },
    "tags": []
   },
   "outputs": [
    {
     "name": "stdout",
     "output_type": "stream",
     "text": [
      "<class 'pandas.core.frame.DataFrame'>\n",
      "RangeIndex: 1338 entries, 0 to 1337\n",
      "Data columns (total 7 columns):\n",
      " #   Column    Non-Null Count  Dtype  \n",
      "---  ------    --------------  -----  \n",
      " 0   age       1338 non-null   int64  \n",
      " 1   sex       1338 non-null   object \n",
      " 2   bmi       1338 non-null   float64\n",
      " 3   children  1338 non-null   int64  \n",
      " 4   smoker    1338 non-null   object \n",
      " 5   region    1338 non-null   object \n",
      " 6   charges   1338 non-null   float64\n",
      "dtypes: float64(2), int64(2), object(3)\n",
      "memory usage: 73.3+ KB\n"
     ]
    }
   ],
   "source": [
    "df.info()"
   ]
  },
  {
   "cell_type": "code",
   "execution_count": 5,
   "id": "e90604b7",
   "metadata": {
    "execution": {
     "iopub.execute_input": "2024-10-31T17:19:49.021369Z",
     "iopub.status.busy": "2024-10-31T17:19:49.020844Z",
     "iopub.status.idle": "2024-10-31T17:19:49.044819Z",
     "shell.execute_reply": "2024-10-31T17:19:49.043489Z"
    },
    "papermill": {
     "duration": 0.038479,
     "end_time": "2024-10-31T17:19:49.047648",
     "exception": false,
     "start_time": "2024-10-31T17:19:49.009169",
     "status": "completed"
    },
    "tags": []
   },
   "outputs": [
    {
     "data": {
      "text/html": [
       "<div>\n",
       "<style scoped>\n",
       "    .dataframe tbody tr th:only-of-type {\n",
       "        vertical-align: middle;\n",
       "    }\n",
       "\n",
       "    .dataframe tbody tr th {\n",
       "        vertical-align: top;\n",
       "    }\n",
       "\n",
       "    .dataframe thead th {\n",
       "        text-align: right;\n",
       "    }\n",
       "</style>\n",
       "<table border=\"1\" class=\"dataframe\">\n",
       "  <thead>\n",
       "    <tr style=\"text-align: right;\">\n",
       "      <th></th>\n",
       "      <th>age</th>\n",
       "      <th>sex</th>\n",
       "      <th>bmi</th>\n",
       "      <th>children</th>\n",
       "      <th>smoker</th>\n",
       "      <th>region</th>\n",
       "      <th>charges</th>\n",
       "    </tr>\n",
       "  </thead>\n",
       "  <tbody>\n",
       "    <tr>\n",
       "      <th>0</th>\n",
       "      <td>19</td>\n",
       "      <td>female</td>\n",
       "      <td>27.900</td>\n",
       "      <td>0</td>\n",
       "      <td>yes</td>\n",
       "      <td>southwest</td>\n",
       "      <td>16884.92400</td>\n",
       "    </tr>\n",
       "    <tr>\n",
       "      <th>1</th>\n",
       "      <td>18</td>\n",
       "      <td>male</td>\n",
       "      <td>33.770</td>\n",
       "      <td>1</td>\n",
       "      <td>no</td>\n",
       "      <td>southeast</td>\n",
       "      <td>1725.55230</td>\n",
       "    </tr>\n",
       "    <tr>\n",
       "      <th>2</th>\n",
       "      <td>28</td>\n",
       "      <td>male</td>\n",
       "      <td>33.000</td>\n",
       "      <td>3</td>\n",
       "      <td>no</td>\n",
       "      <td>southeast</td>\n",
       "      <td>4449.46200</td>\n",
       "    </tr>\n",
       "    <tr>\n",
       "      <th>3</th>\n",
       "      <td>33</td>\n",
       "      <td>male</td>\n",
       "      <td>22.705</td>\n",
       "      <td>0</td>\n",
       "      <td>no</td>\n",
       "      <td>northwest</td>\n",
       "      <td>21984.47061</td>\n",
       "    </tr>\n",
       "    <tr>\n",
       "      <th>4</th>\n",
       "      <td>32</td>\n",
       "      <td>male</td>\n",
       "      <td>28.880</td>\n",
       "      <td>0</td>\n",
       "      <td>no</td>\n",
       "      <td>northwest</td>\n",
       "      <td>3866.85520</td>\n",
       "    </tr>\n",
       "  </tbody>\n",
       "</table>\n",
       "</div>"
      ],
      "text/plain": [
       "   age     sex     bmi  children smoker     region      charges\n",
       "0   19  female  27.900         0    yes  southwest  16884.92400\n",
       "1   18    male  33.770         1     no  southeast   1725.55230\n",
       "2   28    male  33.000         3     no  southeast   4449.46200\n",
       "3   33    male  22.705         0     no  northwest  21984.47061\n",
       "4   32    male  28.880         0     no  northwest   3866.85520"
      ]
     },
     "execution_count": 5,
     "metadata": {},
     "output_type": "execute_result"
    }
   ],
   "source": [
    "df.head()"
   ]
  },
  {
   "cell_type": "code",
   "execution_count": 6,
   "id": "4d9c8cf7",
   "metadata": {
    "execution": {
     "iopub.execute_input": "2024-10-31T17:19:49.071014Z",
     "iopub.status.busy": "2024-10-31T17:19:49.070187Z",
     "iopub.status.idle": "2024-10-31T17:19:49.078499Z",
     "shell.execute_reply": "2024-10-31T17:19:49.077166Z"
    },
    "papermill": {
     "duration": 0.022899,
     "end_time": "2024-10-31T17:19:49.081406",
     "exception": false,
     "start_time": "2024-10-31T17:19:49.058507",
     "status": "completed"
    },
    "tags": []
   },
   "outputs": [
    {
     "data": {
      "text/plain": [
       "(1338, 7)"
      ]
     },
     "execution_count": 6,
     "metadata": {},
     "output_type": "execute_result"
    }
   ],
   "source": [
    "df.shape"
   ]
  },
  {
   "cell_type": "code",
   "execution_count": 7,
   "id": "c675f224",
   "metadata": {
    "execution": {
     "iopub.execute_input": "2024-10-31T17:19:49.104559Z",
     "iopub.status.busy": "2024-10-31T17:19:49.104138Z",
     "iopub.status.idle": "2024-10-31T17:19:49.136957Z",
     "shell.execute_reply": "2024-10-31T17:19:49.135676Z"
    },
    "papermill": {
     "duration": 0.047574,
     "end_time": "2024-10-31T17:19:49.139699",
     "exception": false,
     "start_time": "2024-10-31T17:19:49.092125",
     "status": "completed"
    },
    "tags": []
   },
   "outputs": [
    {
     "data": {
      "text/html": [
       "<div>\n",
       "<style scoped>\n",
       "    .dataframe tbody tr th:only-of-type {\n",
       "        vertical-align: middle;\n",
       "    }\n",
       "\n",
       "    .dataframe tbody tr th {\n",
       "        vertical-align: top;\n",
       "    }\n",
       "\n",
       "    .dataframe thead th {\n",
       "        text-align: right;\n",
       "    }\n",
       "</style>\n",
       "<table border=\"1\" class=\"dataframe\">\n",
       "  <thead>\n",
       "    <tr style=\"text-align: right;\">\n",
       "      <th></th>\n",
       "      <th>age</th>\n",
       "      <th>bmi</th>\n",
       "      <th>children</th>\n",
       "      <th>charges</th>\n",
       "    </tr>\n",
       "  </thead>\n",
       "  <tbody>\n",
       "    <tr>\n",
       "      <th>count</th>\n",
       "      <td>1338.000000</td>\n",
       "      <td>1338.000000</td>\n",
       "      <td>1338.000000</td>\n",
       "      <td>1338.000000</td>\n",
       "    </tr>\n",
       "    <tr>\n",
       "      <th>mean</th>\n",
       "      <td>39.207025</td>\n",
       "      <td>30.663397</td>\n",
       "      <td>1.094918</td>\n",
       "      <td>13270.422265</td>\n",
       "    </tr>\n",
       "    <tr>\n",
       "      <th>std</th>\n",
       "      <td>14.049960</td>\n",
       "      <td>6.098187</td>\n",
       "      <td>1.205493</td>\n",
       "      <td>12110.011237</td>\n",
       "    </tr>\n",
       "    <tr>\n",
       "      <th>min</th>\n",
       "      <td>18.000000</td>\n",
       "      <td>15.960000</td>\n",
       "      <td>0.000000</td>\n",
       "      <td>1121.873900</td>\n",
       "    </tr>\n",
       "    <tr>\n",
       "      <th>25%</th>\n",
       "      <td>27.000000</td>\n",
       "      <td>26.296250</td>\n",
       "      <td>0.000000</td>\n",
       "      <td>4740.287150</td>\n",
       "    </tr>\n",
       "    <tr>\n",
       "      <th>50%</th>\n",
       "      <td>39.000000</td>\n",
       "      <td>30.400000</td>\n",
       "      <td>1.000000</td>\n",
       "      <td>9382.033000</td>\n",
       "    </tr>\n",
       "    <tr>\n",
       "      <th>75%</th>\n",
       "      <td>51.000000</td>\n",
       "      <td>34.693750</td>\n",
       "      <td>2.000000</td>\n",
       "      <td>16639.912515</td>\n",
       "    </tr>\n",
       "    <tr>\n",
       "      <th>max</th>\n",
       "      <td>64.000000</td>\n",
       "      <td>53.130000</td>\n",
       "      <td>5.000000</td>\n",
       "      <td>63770.428010</td>\n",
       "    </tr>\n",
       "  </tbody>\n",
       "</table>\n",
       "</div>"
      ],
      "text/plain": [
       "               age          bmi     children       charges\n",
       "count  1338.000000  1338.000000  1338.000000   1338.000000\n",
       "mean     39.207025    30.663397     1.094918  13270.422265\n",
       "std      14.049960     6.098187     1.205493  12110.011237\n",
       "min      18.000000    15.960000     0.000000   1121.873900\n",
       "25%      27.000000    26.296250     0.000000   4740.287150\n",
       "50%      39.000000    30.400000     1.000000   9382.033000\n",
       "75%      51.000000    34.693750     2.000000  16639.912515\n",
       "max      64.000000    53.130000     5.000000  63770.428010"
      ]
     },
     "execution_count": 7,
     "metadata": {},
     "output_type": "execute_result"
    }
   ],
   "source": [
    "df.describe()"
   ]
  },
  {
   "cell_type": "markdown",
   "id": "a27fd435",
   "metadata": {
    "papermill": {
     "duration": 0.010402,
     "end_time": "2024-10-31T17:19:49.161136",
     "exception": false,
     "start_time": "2024-10-31T17:19:49.150734",
     "status": "completed"
    },
    "tags": []
   },
   "source": [
    "### Dropping duplicate values"
   ]
  },
  {
   "cell_type": "code",
   "execution_count": 8,
   "id": "2a9c1a82",
   "metadata": {
    "execution": {
     "iopub.execute_input": "2024-10-31T17:19:49.185835Z",
     "iopub.status.busy": "2024-10-31T17:19:49.184779Z",
     "iopub.status.idle": "2024-10-31T17:19:49.196981Z",
     "shell.execute_reply": "2024-10-31T17:19:49.195511Z"
    },
    "papermill": {
     "duration": 0.027812,
     "end_time": "2024-10-31T17:19:49.199907",
     "exception": false,
     "start_time": "2024-10-31T17:19:49.172095",
     "status": "completed"
    },
    "tags": []
   },
   "outputs": [
    {
     "name": "stdout",
     "output_type": "stream",
     "text": [
      "no of duplicated rows: (1, 7)\n"
     ]
    }
   ],
   "source": [
    "#Handle Duplicate values\n",
    "duplicate_rows = df[df.duplicated()]\n",
    "print(\"no of duplicated rows:\", duplicate_rows.shape)"
   ]
  },
  {
   "cell_type": "code",
   "execution_count": 9,
   "id": "13d5a1bd",
   "metadata": {
    "execution": {
     "iopub.execute_input": "2024-10-31T17:19:49.223903Z",
     "iopub.status.busy": "2024-10-31T17:19:49.223490Z",
     "iopub.status.idle": "2024-10-31T17:19:49.232234Z",
     "shell.execute_reply": "2024-10-31T17:19:49.231068Z"
    },
    "papermill": {
     "duration": 0.02409,
     "end_time": "2024-10-31T17:19:49.235134",
     "exception": false,
     "start_time": "2024-10-31T17:19:49.211044",
     "status": "completed"
    },
    "tags": []
   },
   "outputs": [],
   "source": [
    "df = df.drop_duplicates()"
   ]
  },
  {
   "cell_type": "markdown",
   "id": "70320fa9",
   "metadata": {
    "papermill": {
     "duration": 0.011056,
     "end_time": "2024-10-31T17:19:49.257488",
     "exception": false,
     "start_time": "2024-10-31T17:19:49.246432",
     "status": "completed"
    },
    "tags": []
   },
   "source": [
    "## Uniqueness"
   ]
  },
  {
   "cell_type": "markdown",
   "id": "69b5cc05",
   "metadata": {
    "papermill": {
     "duration": 0.011643,
     "end_time": "2024-10-31T17:19:49.280329",
     "exception": false,
     "start_time": "2024-10-31T17:19:49.268686",
     "status": "completed"
    },
    "tags": []
   },
   "source": [
    "### Checking each column and counting the number of distinct values present "
   ]
  },
  {
   "cell_type": "code",
   "execution_count": 10,
   "id": "2f202124",
   "metadata": {
    "execution": {
     "iopub.execute_input": "2024-10-31T17:19:49.304334Z",
     "iopub.status.busy": "2024-10-31T17:19:49.303841Z",
     "iopub.status.idle": "2024-10-31T17:19:49.313103Z",
     "shell.execute_reply": "2024-10-31T17:19:49.311796Z"
    },
    "papermill": {
     "duration": 0.024537,
     "end_time": "2024-10-31T17:19:49.315890",
     "exception": false,
     "start_time": "2024-10-31T17:19:49.291353",
     "status": "completed"
    },
    "tags": []
   },
   "outputs": [
    {
     "name": "stdout",
     "output_type": "stream",
     "text": [
      "age: 47 distinct values\n",
      "sex: 2 distinct values\n",
      "bmi: 548 distinct values\n",
      "children: 6 distinct values\n",
      "smoker: 2 distinct values\n",
      "region: 4 distinct values\n",
      "charges: 1337 distinct values\n"
     ]
    }
   ],
   "source": [
    "# Check each column and count the number of distinct values present \n",
    "for column in df.columns:\n",
    "    num_distinct_values = len(df[column].unique())\n",
    "    print(f\"{column}: {num_distinct_values} distinct values\")"
   ]
  },
  {
   "cell_type": "markdown",
   "id": "082b25ec",
   "metadata": {
    "papermill": {
     "duration": 0.011472,
     "end_time": "2024-10-31T17:19:49.338592",
     "exception": false,
     "start_time": "2024-10-31T17:19:49.327120",
     "status": "completed"
    },
    "tags": []
   },
   "source": [
    "### No of missing values"
   ]
  },
  {
   "cell_type": "code",
   "execution_count": 11,
   "id": "aeded0b9",
   "metadata": {
    "execution": {
     "iopub.execute_input": "2024-10-31T17:19:49.362451Z",
     "iopub.status.busy": "2024-10-31T17:19:49.361850Z",
     "iopub.status.idle": "2024-10-31T17:19:49.370714Z",
     "shell.execute_reply": "2024-10-31T17:19:49.369410Z"
    },
    "papermill": {
     "duration": 0.024273,
     "end_time": "2024-10-31T17:19:49.373866",
     "exception": false,
     "start_time": "2024-10-31T17:19:49.349593",
     "status": "completed"
    },
    "tags": []
   },
   "outputs": [
    {
     "name": "stdout",
     "output_type": "stream",
     "text": [
      "age         0\n",
      "sex         0\n",
      "bmi         0\n",
      "children    0\n",
      "smoker      0\n",
      "region      0\n",
      "charges     0\n",
      "dtype: int64\n"
     ]
    }
   ],
   "source": [
    "#missing values\n",
    "print(df.isnull().sum())"
   ]
  },
  {
   "cell_type": "markdown",
   "id": "964b71ee",
   "metadata": {
    "papermill": {
     "duration": 0.010978,
     "end_time": "2024-10-31T17:19:49.396364",
     "exception": false,
     "start_time": "2024-10-31T17:19:49.385386",
     "status": "completed"
    },
    "tags": []
   },
   "source": [
    "# Encoding"
   ]
  },
  {
   "cell_type": "markdown",
   "id": "9e408933",
   "metadata": {
    "papermill": {
     "duration": 0.011256,
     "end_time": "2024-10-31T17:19:49.418900",
     "exception": false,
     "start_time": "2024-10-31T17:19:49.407644",
     "status": "completed"
    },
    "tags": []
   },
   "source": [
    "###  Label Encoding is a technique used in machine learning and data preprocess to convert the categorical values into numerical values it assign a unique numerical label to each unique distinct category"
   ]
  },
  {
   "cell_type": "code",
   "execution_count": 12,
   "id": "878c97b9",
   "metadata": {
    "execution": {
     "iopub.execute_input": "2024-10-31T17:19:49.443081Z",
     "iopub.status.busy": "2024-10-31T17:19:49.442612Z",
     "iopub.status.idle": "2024-10-31T17:19:49.452802Z",
     "shell.execute_reply": "2024-10-31T17:19:49.451584Z"
    },
    "papermill": {
     "duration": 0.025322,
     "end_time": "2024-10-31T17:19:49.455433",
     "exception": false,
     "start_time": "2024-10-31T17:19:49.430111",
     "status": "completed"
    },
    "tags": []
   },
   "outputs": [],
   "source": [
    "#Apply label encoding to the categorical values\n",
    "le = LabelEncoder()\n",
    "df[\"sex\"] = le.fit_transform(df[\"sex\"])\n",
    "df[\"smoker\"] = le.fit_transform(df[\"smoker\"])\n",
    "df[\"region\"] = le.fit_transform(df[\"region\"])"
   ]
  },
  {
   "cell_type": "code",
   "execution_count": 13,
   "id": "f97cbf88",
   "metadata": {
    "execution": {
     "iopub.execute_input": "2024-10-31T17:19:49.479959Z",
     "iopub.status.busy": "2024-10-31T17:19:49.479468Z",
     "iopub.status.idle": "2024-10-31T17:19:49.492605Z",
     "shell.execute_reply": "2024-10-31T17:19:49.491421Z"
    },
    "papermill": {
     "duration": 0.028701,
     "end_time": "2024-10-31T17:19:49.495311",
     "exception": false,
     "start_time": "2024-10-31T17:19:49.466610",
     "status": "completed"
    },
    "tags": []
   },
   "outputs": [],
   "source": [
    "# Split data into features (X) and target (y)\n",
    "X = df.drop(columns=['charges'])\n",
    "y = df['charges']\n",
    "\n",
    "# Split into train and test sets\n",
    "X_train, X_test, y_train, y_test = train_test_split(X, y, test_size=0.2, random_state=42)"
   ]
  },
  {
   "cell_type": "markdown",
   "id": "f8a34791",
   "metadata": {
    "papermill": {
     "duration": 0.010888,
     "end_time": "2024-10-31T17:19:49.517380",
     "exception": false,
     "start_time": "2024-10-31T17:19:49.506492",
     "status": "completed"
    },
    "tags": []
   },
   "source": [
    "# Initialize the model\n",
    "## Model trained using GradientBoostingRegressor"
   ]
  },
  {
   "cell_type": "code",
   "execution_count": 14,
   "id": "9d0279fa",
   "metadata": {
    "execution": {
     "iopub.execute_input": "2024-10-31T17:19:49.541427Z",
     "iopub.status.busy": "2024-10-31T17:19:49.540976Z",
     "iopub.status.idle": "2024-10-31T17:19:49.633199Z",
     "shell.execute_reply": "2024-10-31T17:19:49.631788Z"
    },
    "papermill": {
     "duration": 0.107655,
     "end_time": "2024-10-31T17:19:49.636257",
     "exception": false,
     "start_time": "2024-10-31T17:19:49.528602",
     "status": "completed"
    },
    "tags": []
   },
   "outputs": [
    {
     "data": {
      "text/html": [
       "<style>#sk-container-id-1 {color: black;background-color: white;}#sk-container-id-1 pre{padding: 0;}#sk-container-id-1 div.sk-toggleable {background-color: white;}#sk-container-id-1 label.sk-toggleable__label {cursor: pointer;display: block;width: 100%;margin-bottom: 0;padding: 0.3em;box-sizing: border-box;text-align: center;}#sk-container-id-1 label.sk-toggleable__label-arrow:before {content: \"▸\";float: left;margin-right: 0.25em;color: #696969;}#sk-container-id-1 label.sk-toggleable__label-arrow:hover:before {color: black;}#sk-container-id-1 div.sk-estimator:hover label.sk-toggleable__label-arrow:before {color: black;}#sk-container-id-1 div.sk-toggleable__content {max-height: 0;max-width: 0;overflow: hidden;text-align: left;background-color: #f0f8ff;}#sk-container-id-1 div.sk-toggleable__content pre {margin: 0.2em;color: black;border-radius: 0.25em;background-color: #f0f8ff;}#sk-container-id-1 input.sk-toggleable__control:checked~div.sk-toggleable__content {max-height: 200px;max-width: 100%;overflow: auto;}#sk-container-id-1 input.sk-toggleable__control:checked~label.sk-toggleable__label-arrow:before {content: \"▾\";}#sk-container-id-1 div.sk-estimator input.sk-toggleable__control:checked~label.sk-toggleable__label {background-color: #d4ebff;}#sk-container-id-1 div.sk-label input.sk-toggleable__control:checked~label.sk-toggleable__label {background-color: #d4ebff;}#sk-container-id-1 input.sk-hidden--visually {border: 0;clip: rect(1px 1px 1px 1px);clip: rect(1px, 1px, 1px, 1px);height: 1px;margin: -1px;overflow: hidden;padding: 0;position: absolute;width: 1px;}#sk-container-id-1 div.sk-estimator {font-family: monospace;background-color: #f0f8ff;border: 1px dotted black;border-radius: 0.25em;box-sizing: border-box;margin-bottom: 0.5em;}#sk-container-id-1 div.sk-estimator:hover {background-color: #d4ebff;}#sk-container-id-1 div.sk-parallel-item::after {content: \"\";width: 100%;border-bottom: 1px solid gray;flex-grow: 1;}#sk-container-id-1 div.sk-label:hover label.sk-toggleable__label {background-color: #d4ebff;}#sk-container-id-1 div.sk-serial::before {content: \"\";position: absolute;border-left: 1px solid gray;box-sizing: border-box;top: 0;bottom: 0;left: 50%;z-index: 0;}#sk-container-id-1 div.sk-serial {display: flex;flex-direction: column;align-items: center;background-color: white;padding-right: 0.2em;padding-left: 0.2em;position: relative;}#sk-container-id-1 div.sk-item {position: relative;z-index: 1;}#sk-container-id-1 div.sk-parallel {display: flex;align-items: stretch;justify-content: center;background-color: white;position: relative;}#sk-container-id-1 div.sk-item::before, #sk-container-id-1 div.sk-parallel-item::before {content: \"\";position: absolute;border-left: 1px solid gray;box-sizing: border-box;top: 0;bottom: 0;left: 50%;z-index: -1;}#sk-container-id-1 div.sk-parallel-item {display: flex;flex-direction: column;z-index: 1;position: relative;background-color: white;}#sk-container-id-1 div.sk-parallel-item:first-child::after {align-self: flex-end;width: 50%;}#sk-container-id-1 div.sk-parallel-item:last-child::after {align-self: flex-start;width: 50%;}#sk-container-id-1 div.sk-parallel-item:only-child::after {width: 0;}#sk-container-id-1 div.sk-dashed-wrapped {border: 1px dashed gray;margin: 0 0.4em 0.5em 0.4em;box-sizing: border-box;padding-bottom: 0.4em;background-color: white;}#sk-container-id-1 div.sk-label label {font-family: monospace;font-weight: bold;display: inline-block;line-height: 1.2em;}#sk-container-id-1 div.sk-label-container {text-align: center;}#sk-container-id-1 div.sk-container {/* jupyter's `normalize.less` sets `[hidden] { display: none; }` but bootstrap.min.css set `[hidden] { display: none !important; }` so we also need the `!important` here to be able to override the default hidden behavior on the sphinx rendered scikit-learn.org. See: https://github.com/scikit-learn/scikit-learn/issues/21755 */display: inline-block !important;position: relative;}#sk-container-id-1 div.sk-text-repr-fallback {display: none;}</style><div id=\"sk-container-id-1\" class=\"sk-top-container\"><div class=\"sk-text-repr-fallback\"><pre>SVR(C=100, gamma=0.1)</pre><b>In a Jupyter environment, please rerun this cell to show the HTML representation or trust the notebook. <br />On GitHub, the HTML representation is unable to render, please try loading this page with nbviewer.org.</b></div><div class=\"sk-container\" hidden><div class=\"sk-item\"><div class=\"sk-estimator sk-toggleable\"><input class=\"sk-toggleable__control sk-hidden--visually\" id=\"sk-estimator-id-1\" type=\"checkbox\" checked><label for=\"sk-estimator-id-1\" class=\"sk-toggleable__label sk-toggleable__label-arrow\">SVR</label><div class=\"sk-toggleable__content\"><pre>SVR(C=100, gamma=0.1)</pre></div></div></div></div></div>"
      ],
      "text/plain": [
       "SVR(C=100, gamma=0.1)"
      ]
     },
     "execution_count": 14,
     "metadata": {},
     "output_type": "execute_result"
    }
   ],
   "source": [
    "# Initialize the model\n",
    "model = SVR(kernel='rbf', C=100, gamma=0.1)\n",
    "\n",
    "# Fit the model\n",
    "model.fit(X_train, y_train)"
   ]
  },
  {
   "cell_type": "markdown",
   "id": "40a08805",
   "metadata": {
    "papermill": {
     "duration": 0.011165,
     "end_time": "2024-10-31T17:19:49.658886",
     "exception": false,
     "start_time": "2024-10-31T17:19:49.647721",
     "status": "completed"
    },
    "tags": []
   },
   "source": [
    "### Initialize k crossvalidation\n",
    "#### Cross-Validation Score (Cross-Val Score) is a metric used to evaluate the performance of a model on unseen data"
   ]
  },
  {
   "cell_type": "code",
   "execution_count": 15,
   "id": "3b0354c6",
   "metadata": {
    "execution": {
     "iopub.execute_input": "2024-10-31T17:19:49.683674Z",
     "iopub.status.busy": "2024-10-31T17:19:49.683261Z",
     "iopub.status.idle": "2024-10-31T17:19:50.405394Z",
     "shell.execute_reply": "2024-10-31T17:19:50.404094Z"
    },
    "papermill": {
     "duration": 0.737418,
     "end_time": "2024-10-31T17:19:50.408018",
     "exception": false,
     "start_time": "2024-10-31T17:19:49.670600",
     "status": "completed"
    },
    "tags": []
   },
   "outputs": [
    {
     "name": "stdout",
     "output_type": "stream",
     "text": [
      "Cross-validated MSE: 149715603.5914773\n"
     ]
    }
   ],
   "source": [
    "# Perform 10-fold CV\n",
    "scores = cross_val_score(model, X_train, y_train, scoring='neg_mean_squared_error', cv=10)\n",
    "print(f\"Cross-validated MSE: {-np.mean(scores)}\")"
   ]
  },
  {
   "cell_type": "markdown",
   "id": "03388a0d",
   "metadata": {
    "papermill": {
     "duration": 0.011184,
     "end_time": "2024-10-31T17:19:50.430857",
     "exception": false,
     "start_time": "2024-10-31T17:19:50.419673",
     "status": "completed"
    },
    "tags": []
   },
   "source": [
    "### Defining the hyperparameter "
   ]
  },
  {
   "cell_type": "code",
   "execution_count": 16,
   "id": "dd9425f1",
   "metadata": {
    "execution": {
     "iopub.execute_input": "2024-10-31T17:19:50.455530Z",
     "iopub.status.busy": "2024-10-31T17:19:50.455089Z",
     "iopub.status.idle": "2024-10-31T17:19:50.461136Z",
     "shell.execute_reply": "2024-10-31T17:19:50.459997Z"
    },
    "papermill": {
     "duration": 0.021252,
     "end_time": "2024-10-31T17:19:50.463551",
     "exception": false,
     "start_time": "2024-10-31T17:19:50.442299",
     "status": "completed"
    },
    "tags": []
   },
   "outputs": [],
   "source": [
    "# Define the hyperparameter grid to search over\n",
    "param_grid = {'C': [1, 10, 100, 1000], 'gamma': [0.001, 0.0001, 0.01], 'kernel': ['linear', 'rbf']}"
   ]
  },
  {
   "cell_type": "markdown",
   "id": "ae0a1dd8",
   "metadata": {
    "papermill": {
     "duration": 0.011113,
     "end_time": "2024-10-31T17:19:50.486106",
     "exception": false,
     "start_time": "2024-10-31T17:19:50.474993",
     "status": "completed"
    },
    "tags": []
   },
   "source": [
    "## Using GridSearchCV \n",
    "### GridSearchCV is a powerful tool for hyperparameter tuning in machine learning and can be used to find the best set of hyperparameters for a given model and dataset"
   ]
  },
  {
   "cell_type": "code",
   "execution_count": 17,
   "id": "bfbd937b",
   "metadata": {
    "execution": {
     "iopub.execute_input": "2024-10-31T17:19:50.510680Z",
     "iopub.status.busy": "2024-10-31T17:19:50.510196Z",
     "iopub.status.idle": "2024-10-31T17:19:50.515774Z",
     "shell.execute_reply": "2024-10-31T17:19:50.514711Z"
    },
    "papermill": {
     "duration": 0.020685,
     "end_time": "2024-10-31T17:19:50.518308",
     "exception": false,
     "start_time": "2024-10-31T17:19:50.497623",
     "status": "completed"
    },
    "tags": []
   },
   "outputs": [],
   "source": [
    "\n",
    "grid_search = GridSearchCV(model, param_grid, cv=5, scoring='neg_mean_squared_error')"
   ]
  },
  {
   "cell_type": "code",
   "execution_count": 18,
   "id": "56a9007b",
   "metadata": {
    "execution": {
     "iopub.execute_input": "2024-10-31T17:19:50.543165Z",
     "iopub.status.busy": "2024-10-31T17:19:50.542704Z",
     "iopub.status.idle": "2024-10-31T17:20:08.973265Z",
     "shell.execute_reply": "2024-10-31T17:20:08.971651Z"
    },
    "papermill": {
     "duration": 18.446089,
     "end_time": "2024-10-31T17:20:08.975891",
     "exception": false,
     "start_time": "2024-10-31T17:19:50.529802",
     "status": "completed"
    },
    "tags": []
   },
   "outputs": [
    {
     "name": "stdout",
     "output_type": "stream",
     "text": [
      "Fitting 10 folds for each of 24 candidates, totalling 240 fits\n",
      "Best parameters: {'C': 1000, 'gamma': 0.001, 'kernel': 'linear'}\n"
     ]
    }
   ],
   "source": [
    "# Initialize the grid search\n",
    "grid_search = GridSearchCV(estimator=model, param_grid=param_grid, cv=10, scoring='neg_mean_squared_error', n_jobs=-1, verbose=1)\n",
    "\n",
    "# Fit the grid search\n",
    "grid_search.fit(X_train, y_train)\n",
    "\n",
    "# Get the best parameters\n",
    "best_params = grid_search.best_params_\n",
    "print(\"Best parameters:\", best_params)"
   ]
  },
  {
   "cell_type": "code",
   "execution_count": 19,
   "id": "2846a315",
   "metadata": {
    "execution": {
     "iopub.execute_input": "2024-10-31T17:20:09.001187Z",
     "iopub.status.busy": "2024-10-31T17:20:09.000711Z",
     "iopub.status.idle": "2024-10-31T17:20:09.006670Z",
     "shell.execute_reply": "2024-10-31T17:20:09.005426Z"
    },
    "papermill": {
     "duration": 0.021713,
     "end_time": "2024-10-31T17:20:09.009222",
     "exception": false,
     "start_time": "2024-10-31T17:20:08.987509",
     "status": "completed"
    },
    "tags": []
   },
   "outputs": [],
   "source": [
    "# Update the model with the best parameters\n",
    "model = grid_search.best_estimator_"
   ]
  },
  {
   "cell_type": "code",
   "execution_count": 20,
   "id": "e4a505e2",
   "metadata": {
    "execution": {
     "iopub.execute_input": "2024-10-31T17:20:09.034675Z",
     "iopub.status.busy": "2024-10-31T17:20:09.033843Z",
     "iopub.status.idle": "2024-10-31T17:20:09.046430Z",
     "shell.execute_reply": "2024-10-31T17:20:09.045387Z"
    },
    "papermill": {
     "duration": 0.028047,
     "end_time": "2024-10-31T17:20:09.049088",
     "exception": false,
     "start_time": "2024-10-31T17:20:09.021041",
     "status": "completed"
    },
    "tags": []
   },
   "outputs": [],
   "source": [
    "# Make predictions\n",
    "y_pred = model.predict(X_test)"
   ]
  },
  {
   "cell_type": "markdown",
   "id": "7397bee2",
   "metadata": {
    "papermill": {
     "duration": 0.011367,
     "end_time": "2024-10-31T17:20:09.072174",
     "exception": false,
     "start_time": "2024-10-31T17:20:09.060807",
     "status": "completed"
    },
    "tags": []
   },
   "source": [
    "### Calculate the MAE , MSE ,RMSE,R2"
   ]
  },
  {
   "cell_type": "code",
   "execution_count": 21,
   "id": "d94f0fff",
   "metadata": {
    "execution": {
     "iopub.execute_input": "2024-10-31T17:20:09.097467Z",
     "iopub.status.busy": "2024-10-31T17:20:09.097017Z",
     "iopub.status.idle": "2024-10-31T17:20:09.108225Z",
     "shell.execute_reply": "2024-10-31T17:20:09.106992Z"
    },
    "papermill": {
     "duration": 0.027174,
     "end_time": "2024-10-31T17:20:09.111072",
     "exception": false,
     "start_time": "2024-10-31T17:20:09.083898",
     "status": "completed"
    },
    "tags": []
   },
   "outputs": [
    {
     "name": "stdout",
     "output_type": "stream",
     "text": [
      "MAE: 4160.918587602725\n",
      "MSE: 69589446.56617959\n",
      "RMSE: 8342.028923839787\n",
      "R2 Score: 0.6212944213334095\n"
     ]
    }
   ],
   "source": [
    "# Calculate MAE, MSE, RMSE, R2\n",
    "mae = mean_absolute_error(y_test, y_pred)\n",
    "mse = mean_squared_error(y_test, y_pred)\n",
    "rmse = mse**(0.5)  \n",
    "r2 = r2_score(y_test, y_pred)\n",
    "\n",
    "print(\"MAE:\", mae)\n",
    "print(\"MSE:\", mse)\n",
    "print(\"RMSE:\", rmse)\n",
    "print(\"R2 Score:\", r2)"
   ]
  },
  {
   "cell_type": "code",
   "execution_count": null,
   "id": "08d6baff",
   "metadata": {
    "papermill": {
     "duration": 0.011788,
     "end_time": "2024-10-31T17:20:09.134909",
     "exception": false,
     "start_time": "2024-10-31T17:20:09.123121",
     "status": "completed"
    },
    "tags": []
   },
   "outputs": [],
   "source": []
  }
 ],
 "metadata": {
  "kaggle": {
   "accelerator": "none",
   "dataSources": [
    {
     "datasetId": 13720,
     "sourceId": 18513,
     "sourceType": "datasetVersion"
    }
   ],
   "dockerImageVersionId": 30786,
   "isGpuEnabled": false,
   "isInternetEnabled": true,
   "language": "python",
   "sourceType": "notebook"
  },
  "kernelspec": {
   "display_name": "Python 3",
   "language": "python",
   "name": "python3"
  },
  "language_info": {
   "codemirror_mode": {
    "name": "ipython",
    "version": 3
   },
   "file_extension": ".py",
   "mimetype": "text/x-python",
   "name": "python",
   "nbconvert_exporter": "python",
   "pygments_lexer": "ipython3",
   "version": "3.10.14"
  },
  "papermill": {
   "default_parameters": {},
   "duration": 29.090207,
   "end_time": "2024-10-31T17:20:11.768828",
   "environment_variables": {},
   "exception": null,
   "input_path": "__notebook__.ipynb",
   "output_path": "__notebook__.ipynb",
   "parameters": {},
   "start_time": "2024-10-31T17:19:42.678621",
   "version": "2.6.0"
  }
 },
 "nbformat": 4,
 "nbformat_minor": 5
}
