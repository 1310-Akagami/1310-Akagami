{
 "cells": [
  {
   "cell_type": "code",
   "execution_count": 1,
   "id": "4b608c9b",
   "metadata": {
    "execution": {
     "iopub.execute_input": "2024-10-22T20:20:38.166705Z",
     "iopub.status.busy": "2024-10-22T20:20:38.166277Z",
     "iopub.status.idle": "2024-10-22T20:20:39.082074Z",
     "shell.execute_reply": "2024-10-22T20:20:39.080266Z"
    },
    "papermill": {
     "duration": 0.928734,
     "end_time": "2024-10-22T20:20:39.085804",
     "exception": false,
     "start_time": "2024-10-22T20:20:38.157070",
     "status": "completed"
    },
    "tags": []
   },
   "outputs": [
    {
     "name": "stdout",
     "output_type": "stream",
     "text": [
      "/kaggle/input/insurance/insurance.csv\n"
     ]
    }
   ],
   "source": [
    "# This Python 3 environment comes with many helpful analytics libraries installed\n",
    "# It is defined by the kaggle/python Docker image: https://github.com/kaggle/docker-python\n",
    "# For example, here's several helpful packages to load\n",
    "\n",
    "import numpy as np # linear algebra\n",
    "import pandas as pd # data processing, CSV file I/O (e.g. pd.read_csv)\n",
    "\n",
    "# Input data files are available in the read-only \"../input/\" directory\n",
    "# For example, running this (by clicking run or pressing Shift+Enter) will list all files under the input directory\n",
    "\n",
    "import os\n",
    "for dirname, _, filenames in os.walk('/kaggle/input'):\n",
    "    for filename in filenames:\n",
    "        print(os.path.join(dirname, filename))\n",
    "\n",
    "# You can write up to 20GB to the current directory (/kaggle/working/) that gets preserved as output when you create a version using \"Save & Run All\" \n",
    "# You can also write temporary files to /kaggle/temp/, but they won't be saved outside of the current session"
   ]
  },
  {
   "cell_type": "code",
   "execution_count": 2,
   "id": "e84d7816",
   "metadata": {
    "execution": {
     "iopub.execute_input": "2024-10-22T20:20:39.102538Z",
     "iopub.status.busy": "2024-10-22T20:20:39.101895Z",
     "iopub.status.idle": "2024-10-22T20:20:40.881607Z",
     "shell.execute_reply": "2024-10-22T20:20:40.880416Z"
    },
    "papermill": {
     "duration": 1.791178,
     "end_time": "2024-10-22T20:20:40.884464",
     "exception": false,
     "start_time": "2024-10-22T20:20:39.093286",
     "status": "completed"
    },
    "tags": []
   },
   "outputs": [],
   "source": [
    "from sklearn.model_selection import GridSearchCV,train_test_split,cross_val_score\n",
    "from sklearn.ensemble import GradientBoostingRegressor\n",
    "from sklearn.preprocessing import LabelEncoder\n",
    "from sklearn.metrics import mean_squared_error,mean_absolute_error,r2_score"
   ]
  },
  {
   "cell_type": "code",
   "execution_count": 3,
   "id": "6689e8a0",
   "metadata": {
    "execution": {
     "iopub.execute_input": "2024-10-22T20:20:40.900824Z",
     "iopub.status.busy": "2024-10-22T20:20:40.900227Z",
     "iopub.status.idle": "2024-10-22T20:20:40.920332Z",
     "shell.execute_reply": "2024-10-22T20:20:40.918997Z"
    },
    "papermill": {
     "duration": 0.031382,
     "end_time": "2024-10-22T20:20:40.923029",
     "exception": false,
     "start_time": "2024-10-22T20:20:40.891647",
     "status": "completed"
    },
    "tags": []
   },
   "outputs": [],
   "source": [
    "df= pd.read_csv('/kaggle/input/insurance/insurance.csv')"
   ]
  },
  {
   "cell_type": "code",
   "execution_count": 4,
   "id": "30930de5",
   "metadata": {
    "execution": {
     "iopub.execute_input": "2024-10-22T20:20:40.938749Z",
     "iopub.status.busy": "2024-10-22T20:20:40.938332Z",
     "iopub.status.idle": "2024-10-22T20:20:40.972940Z",
     "shell.execute_reply": "2024-10-22T20:20:40.971562Z"
    },
    "papermill": {
     "duration": 0.045926,
     "end_time": "2024-10-22T20:20:40.976024",
     "exception": false,
     "start_time": "2024-10-22T20:20:40.930098",
     "status": "completed"
    },
    "tags": []
   },
   "outputs": [
    {
     "name": "stdout",
     "output_type": "stream",
     "text": [
      "<class 'pandas.core.frame.DataFrame'>\n",
      "RangeIndex: 1338 entries, 0 to 1337\n",
      "Data columns (total 7 columns):\n",
      " #   Column    Non-Null Count  Dtype  \n",
      "---  ------    --------------  -----  \n",
      " 0   age       1338 non-null   int64  \n",
      " 1   sex       1338 non-null   object \n",
      " 2   bmi       1338 non-null   float64\n",
      " 3   children  1338 non-null   int64  \n",
      " 4   smoker    1338 non-null   object \n",
      " 5   region    1338 non-null   object \n",
      " 6   charges   1338 non-null   float64\n",
      "dtypes: float64(2), int64(2), object(3)\n",
      "memory usage: 73.3+ KB\n"
     ]
    }
   ],
   "source": [
    "df.info()"
   ]
  },
  {
   "cell_type": "code",
   "execution_count": 5,
   "id": "4bf59a26",
   "metadata": {
    "execution": {
     "iopub.execute_input": "2024-10-22T20:20:40.995772Z",
     "iopub.status.busy": "2024-10-22T20:20:40.994960Z",
     "iopub.status.idle": "2024-10-22T20:20:41.017151Z",
     "shell.execute_reply": "2024-10-22T20:20:41.015820Z"
    },
    "papermill": {
     "duration": 0.035051,
     "end_time": "2024-10-22T20:20:41.019728",
     "exception": false,
     "start_time": "2024-10-22T20:20:40.984677",
     "status": "completed"
    },
    "tags": []
   },
   "outputs": [
    {
     "data": {
      "text/html": [
       "<div>\n",
       "<style scoped>\n",
       "    .dataframe tbody tr th:only-of-type {\n",
       "        vertical-align: middle;\n",
       "    }\n",
       "\n",
       "    .dataframe tbody tr th {\n",
       "        vertical-align: top;\n",
       "    }\n",
       "\n",
       "    .dataframe thead th {\n",
       "        text-align: right;\n",
       "    }\n",
       "</style>\n",
       "<table border=\"1\" class=\"dataframe\">\n",
       "  <thead>\n",
       "    <tr style=\"text-align: right;\">\n",
       "      <th></th>\n",
       "      <th>age</th>\n",
       "      <th>sex</th>\n",
       "      <th>bmi</th>\n",
       "      <th>children</th>\n",
       "      <th>smoker</th>\n",
       "      <th>region</th>\n",
       "      <th>charges</th>\n",
       "    </tr>\n",
       "  </thead>\n",
       "  <tbody>\n",
       "    <tr>\n",
       "      <th>0</th>\n",
       "      <td>19</td>\n",
       "      <td>female</td>\n",
       "      <td>27.900</td>\n",
       "      <td>0</td>\n",
       "      <td>yes</td>\n",
       "      <td>southwest</td>\n",
       "      <td>16884.92400</td>\n",
       "    </tr>\n",
       "    <tr>\n",
       "      <th>1</th>\n",
       "      <td>18</td>\n",
       "      <td>male</td>\n",
       "      <td>33.770</td>\n",
       "      <td>1</td>\n",
       "      <td>no</td>\n",
       "      <td>southeast</td>\n",
       "      <td>1725.55230</td>\n",
       "    </tr>\n",
       "    <tr>\n",
       "      <th>2</th>\n",
       "      <td>28</td>\n",
       "      <td>male</td>\n",
       "      <td>33.000</td>\n",
       "      <td>3</td>\n",
       "      <td>no</td>\n",
       "      <td>southeast</td>\n",
       "      <td>4449.46200</td>\n",
       "    </tr>\n",
       "    <tr>\n",
       "      <th>3</th>\n",
       "      <td>33</td>\n",
       "      <td>male</td>\n",
       "      <td>22.705</td>\n",
       "      <td>0</td>\n",
       "      <td>no</td>\n",
       "      <td>northwest</td>\n",
       "      <td>21984.47061</td>\n",
       "    </tr>\n",
       "    <tr>\n",
       "      <th>4</th>\n",
       "      <td>32</td>\n",
       "      <td>male</td>\n",
       "      <td>28.880</td>\n",
       "      <td>0</td>\n",
       "      <td>no</td>\n",
       "      <td>northwest</td>\n",
       "      <td>3866.85520</td>\n",
       "    </tr>\n",
       "  </tbody>\n",
       "</table>\n",
       "</div>"
      ],
      "text/plain": [
       "   age     sex     bmi  children smoker     region      charges\n",
       "0   19  female  27.900         0    yes  southwest  16884.92400\n",
       "1   18    male  33.770         1     no  southeast   1725.55230\n",
       "2   28    male  33.000         3     no  southeast   4449.46200\n",
       "3   33    male  22.705         0     no  northwest  21984.47061\n",
       "4   32    male  28.880         0     no  northwest   3866.85520"
      ]
     },
     "execution_count": 5,
     "metadata": {},
     "output_type": "execute_result"
    }
   ],
   "source": [
    "df.head()"
   ]
  },
  {
   "cell_type": "code",
   "execution_count": 6,
   "id": "c914a756",
   "metadata": {
    "execution": {
     "iopub.execute_input": "2024-10-22T20:20:41.036550Z",
     "iopub.status.busy": "2024-10-22T20:20:41.036112Z",
     "iopub.status.idle": "2024-10-22T20:20:41.044428Z",
     "shell.execute_reply": "2024-10-22T20:20:41.043241Z"
    },
    "papermill": {
     "duration": 0.01977,
     "end_time": "2024-10-22T20:20:41.047053",
     "exception": false,
     "start_time": "2024-10-22T20:20:41.027283",
     "status": "completed"
    },
    "tags": []
   },
   "outputs": [
    {
     "data": {
      "text/plain": [
       "(1338, 7)"
      ]
     },
     "execution_count": 6,
     "metadata": {},
     "output_type": "execute_result"
    }
   ],
   "source": [
    "df.shape"
   ]
  },
  {
   "cell_type": "code",
   "execution_count": 7,
   "id": "555de121",
   "metadata": {
    "execution": {
     "iopub.execute_input": "2024-10-22T20:20:41.063772Z",
     "iopub.status.busy": "2024-10-22T20:20:41.063344Z",
     "iopub.status.idle": "2024-10-22T20:20:41.090288Z",
     "shell.execute_reply": "2024-10-22T20:20:41.089020Z"
    },
    "papermill": {
     "duration": 0.038199,
     "end_time": "2024-10-22T20:20:41.092798",
     "exception": false,
     "start_time": "2024-10-22T20:20:41.054599",
     "status": "completed"
    },
    "tags": []
   },
   "outputs": [
    {
     "data": {
      "text/html": [
       "<div>\n",
       "<style scoped>\n",
       "    .dataframe tbody tr th:only-of-type {\n",
       "        vertical-align: middle;\n",
       "    }\n",
       "\n",
       "    .dataframe tbody tr th {\n",
       "        vertical-align: top;\n",
       "    }\n",
       "\n",
       "    .dataframe thead th {\n",
       "        text-align: right;\n",
       "    }\n",
       "</style>\n",
       "<table border=\"1\" class=\"dataframe\">\n",
       "  <thead>\n",
       "    <tr style=\"text-align: right;\">\n",
       "      <th></th>\n",
       "      <th>age</th>\n",
       "      <th>bmi</th>\n",
       "      <th>children</th>\n",
       "      <th>charges</th>\n",
       "    </tr>\n",
       "  </thead>\n",
       "  <tbody>\n",
       "    <tr>\n",
       "      <th>count</th>\n",
       "      <td>1338.000000</td>\n",
       "      <td>1338.000000</td>\n",
       "      <td>1338.000000</td>\n",
       "      <td>1338.000000</td>\n",
       "    </tr>\n",
       "    <tr>\n",
       "      <th>mean</th>\n",
       "      <td>39.207025</td>\n",
       "      <td>30.663397</td>\n",
       "      <td>1.094918</td>\n",
       "      <td>13270.422265</td>\n",
       "    </tr>\n",
       "    <tr>\n",
       "      <th>std</th>\n",
       "      <td>14.049960</td>\n",
       "      <td>6.098187</td>\n",
       "      <td>1.205493</td>\n",
       "      <td>12110.011237</td>\n",
       "    </tr>\n",
       "    <tr>\n",
       "      <th>min</th>\n",
       "      <td>18.000000</td>\n",
       "      <td>15.960000</td>\n",
       "      <td>0.000000</td>\n",
       "      <td>1121.873900</td>\n",
       "    </tr>\n",
       "    <tr>\n",
       "      <th>25%</th>\n",
       "      <td>27.000000</td>\n",
       "      <td>26.296250</td>\n",
       "      <td>0.000000</td>\n",
       "      <td>4740.287150</td>\n",
       "    </tr>\n",
       "    <tr>\n",
       "      <th>50%</th>\n",
       "      <td>39.000000</td>\n",
       "      <td>30.400000</td>\n",
       "      <td>1.000000</td>\n",
       "      <td>9382.033000</td>\n",
       "    </tr>\n",
       "    <tr>\n",
       "      <th>75%</th>\n",
       "      <td>51.000000</td>\n",
       "      <td>34.693750</td>\n",
       "      <td>2.000000</td>\n",
       "      <td>16639.912515</td>\n",
       "    </tr>\n",
       "    <tr>\n",
       "      <th>max</th>\n",
       "      <td>64.000000</td>\n",
       "      <td>53.130000</td>\n",
       "      <td>5.000000</td>\n",
       "      <td>63770.428010</td>\n",
       "    </tr>\n",
       "  </tbody>\n",
       "</table>\n",
       "</div>"
      ],
      "text/plain": [
       "               age          bmi     children       charges\n",
       "count  1338.000000  1338.000000  1338.000000   1338.000000\n",
       "mean     39.207025    30.663397     1.094918  13270.422265\n",
       "std      14.049960     6.098187     1.205493  12110.011237\n",
       "min      18.000000    15.960000     0.000000   1121.873900\n",
       "25%      27.000000    26.296250     0.000000   4740.287150\n",
       "50%      39.000000    30.400000     1.000000   9382.033000\n",
       "75%      51.000000    34.693750     2.000000  16639.912515\n",
       "max      64.000000    53.130000     5.000000  63770.428010"
      ]
     },
     "execution_count": 7,
     "metadata": {},
     "output_type": "execute_result"
    }
   ],
   "source": [
    "df.describe()"
   ]
  },
  {
   "cell_type": "markdown",
   "id": "a78eb8da",
   "metadata": {
    "papermill": {
     "duration": 0.007203,
     "end_time": "2024-10-22T20:20:41.107725",
     "exception": false,
     "start_time": "2024-10-22T20:20:41.100522",
     "status": "completed"
    },
    "tags": []
   },
   "source": [
    "### Dropping duplicate values"
   ]
  },
  {
   "cell_type": "code",
   "execution_count": 8,
   "id": "561ba90a",
   "metadata": {
    "execution": {
     "iopub.execute_input": "2024-10-22T20:20:41.124986Z",
     "iopub.status.busy": "2024-10-22T20:20:41.124380Z",
     "iopub.status.idle": "2024-10-22T20:20:41.136464Z",
     "shell.execute_reply": "2024-10-22T20:20:41.135077Z"
    },
    "papermill": {
     "duration": 0.023619,
     "end_time": "2024-10-22T20:20:41.138929",
     "exception": false,
     "start_time": "2024-10-22T20:20:41.115310",
     "status": "completed"
    },
    "tags": []
   },
   "outputs": [
    {
     "name": "stdout",
     "output_type": "stream",
     "text": [
      "no of duplicated rows: (1, 7)\n"
     ]
    }
   ],
   "source": [
    "#Handle Duplicate values\n",
    "duplicate_rows = df[df.duplicated()]\n",
    "print(\"no of duplicated rows:\", duplicate_rows.shape)"
   ]
  },
  {
   "cell_type": "code",
   "execution_count": 9,
   "id": "0b219022",
   "metadata": {
    "execution": {
     "iopub.execute_input": "2024-10-22T20:20:41.156377Z",
     "iopub.status.busy": "2024-10-22T20:20:41.155971Z",
     "iopub.status.idle": "2024-10-22T20:20:41.164305Z",
     "shell.execute_reply": "2024-10-22T20:20:41.163283Z"
    },
    "papermill": {
     "duration": 0.019827,
     "end_time": "2024-10-22T20:20:41.166702",
     "exception": false,
     "start_time": "2024-10-22T20:20:41.146875",
     "status": "completed"
    },
    "tags": []
   },
   "outputs": [],
   "source": [
    "df = df.drop_duplicates()"
   ]
  },
  {
   "cell_type": "markdown",
   "id": "dc89708f",
   "metadata": {
    "papermill": {
     "duration": 0.007214,
     "end_time": "2024-10-22T20:20:41.181528",
     "exception": false,
     "start_time": "2024-10-22T20:20:41.174314",
     "status": "completed"
    },
    "tags": []
   },
   "source": [
    "## Uniqueness"
   ]
  },
  {
   "cell_type": "markdown",
   "id": "aa274de2",
   "metadata": {
    "papermill": {
     "duration": 0.007334,
     "end_time": "2024-10-22T20:20:41.197021",
     "exception": false,
     "start_time": "2024-10-22T20:20:41.189687",
     "status": "completed"
    },
    "tags": []
   },
   "source": [
    "### Checking each column and counting the number of distinct values present "
   ]
  },
  {
   "cell_type": "code",
   "execution_count": 10,
   "id": "ce092d87",
   "metadata": {
    "execution": {
     "iopub.execute_input": "2024-10-22T20:20:41.214006Z",
     "iopub.status.busy": "2024-10-22T20:20:41.213578Z",
     "iopub.status.idle": "2024-10-22T20:20:41.222742Z",
     "shell.execute_reply": "2024-10-22T20:20:41.221460Z"
    },
    "papermill": {
     "duration": 0.020721,
     "end_time": "2024-10-22T20:20:41.225267",
     "exception": false,
     "start_time": "2024-10-22T20:20:41.204546",
     "status": "completed"
    },
    "tags": []
   },
   "outputs": [
    {
     "name": "stdout",
     "output_type": "stream",
     "text": [
      "age: 47 distinct values\n",
      "sex: 2 distinct values\n",
      "bmi: 548 distinct values\n",
      "children: 6 distinct values\n",
      "smoker: 2 distinct values\n",
      "region: 4 distinct values\n",
      "charges: 1337 distinct values\n"
     ]
    }
   ],
   "source": [
    "# Check each column and count the number of distinct values present \n",
    "for column in df.columns:\n",
    "    num_distinct_values = len(df[column].unique())\n",
    "    print(f\"{column}: {num_distinct_values} distinct values\")"
   ]
  },
  {
   "cell_type": "markdown",
   "id": "834ac420",
   "metadata": {
    "papermill": {
     "duration": 0.007262,
     "end_time": "2024-10-22T20:20:41.240193",
     "exception": false,
     "start_time": "2024-10-22T20:20:41.232931",
     "status": "completed"
    },
    "tags": []
   },
   "source": [
    "### No of missing values"
   ]
  },
  {
   "cell_type": "code",
   "execution_count": 11,
   "id": "49495132",
   "metadata": {
    "execution": {
     "iopub.execute_input": "2024-10-22T20:20:41.257367Z",
     "iopub.status.busy": "2024-10-22T20:20:41.256933Z",
     "iopub.status.idle": "2024-10-22T20:20:41.264635Z",
     "shell.execute_reply": "2024-10-22T20:20:41.263385Z"
    },
    "papermill": {
     "duration": 0.019486,
     "end_time": "2024-10-22T20:20:41.267292",
     "exception": false,
     "start_time": "2024-10-22T20:20:41.247806",
     "status": "completed"
    },
    "tags": []
   },
   "outputs": [
    {
     "name": "stdout",
     "output_type": "stream",
     "text": [
      "age         0\n",
      "sex         0\n",
      "bmi         0\n",
      "children    0\n",
      "smoker      0\n",
      "region      0\n",
      "charges     0\n",
      "dtype: int64\n"
     ]
    }
   ],
   "source": [
    "#missing values\n",
    "print(df.isnull().sum())"
   ]
  },
  {
   "cell_type": "markdown",
   "id": "bbf3f469",
   "metadata": {
    "papermill": {
     "duration": 0.007643,
     "end_time": "2024-10-22T20:20:41.282655",
     "exception": false,
     "start_time": "2024-10-22T20:20:41.275012",
     "status": "completed"
    },
    "tags": []
   },
   "source": [
    "# Encoding"
   ]
  },
  {
   "cell_type": "markdown",
   "id": "829e3c45",
   "metadata": {
    "papermill": {
     "duration": 0.007857,
     "end_time": "2024-10-22T20:20:41.298290",
     "exception": false,
     "start_time": "2024-10-22T20:20:41.290433",
     "status": "completed"
    },
    "tags": []
   },
   "source": [
    "###  Label Encoding is a technique used in machine learning and data preprocess to convert the categorical values into numerical values it assign a unique numerical label to each unique distinct category"
   ]
  },
  {
   "cell_type": "code",
   "execution_count": 12,
   "id": "739619ea",
   "metadata": {
    "execution": {
     "iopub.execute_input": "2024-10-22T20:20:41.315807Z",
     "iopub.status.busy": "2024-10-22T20:20:41.315353Z",
     "iopub.status.idle": "2024-10-22T20:20:41.325065Z",
     "shell.execute_reply": "2024-10-22T20:20:41.323863Z"
    },
    "papermill": {
     "duration": 0.022264,
     "end_time": "2024-10-22T20:20:41.328503",
     "exception": false,
     "start_time": "2024-10-22T20:20:41.306239",
     "status": "completed"
    },
    "tags": []
   },
   "outputs": [],
   "source": [
    "#Apply label encoding to the categorical values\n",
    "le = LabelEncoder()\n",
    "df[\"sex\"] = le.fit_transform(df[\"sex\"])\n",
    "df[\"smoker\"] = le.fit_transform(df[\"smoker\"])\n",
    "df[\"region\"] = le.fit_transform(df[\"region\"])"
   ]
  },
  {
   "cell_type": "code",
   "execution_count": 13,
   "id": "a44c6021",
   "metadata": {
    "execution": {
     "iopub.execute_input": "2024-10-22T20:20:41.347576Z",
     "iopub.status.busy": "2024-10-22T20:20:41.347141Z",
     "iopub.status.idle": "2024-10-22T20:20:41.359648Z",
     "shell.execute_reply": "2024-10-22T20:20:41.358357Z"
    },
    "papermill": {
     "duration": 0.025069,
     "end_time": "2024-10-22T20:20:41.362618",
     "exception": false,
     "start_time": "2024-10-22T20:20:41.337549",
     "status": "completed"
    },
    "tags": []
   },
   "outputs": [],
   "source": [
    "# Split data into features (X) and target (y)\n",
    "X = df.drop(columns=['charges'])\n",
    "y = df['charges']\n",
    "\n",
    "# Split into train and test sets\n",
    "X_train, X_test, y_train, y_test = train_test_split(X, y, test_size=0.2, random_state=42)"
   ]
  },
  {
   "cell_type": "markdown",
   "id": "360d0af9",
   "metadata": {
    "papermill": {
     "duration": 0.007359,
     "end_time": "2024-10-22T20:20:41.377756",
     "exception": false,
     "start_time": "2024-10-22T20:20:41.370397",
     "status": "completed"
    },
    "tags": []
   },
   "source": [
    "# Initialize the model\n",
    "## Model trained using GradientBoostingRegressor"
   ]
  },
  {
   "cell_type": "code",
   "execution_count": 14,
   "id": "69ac1ba1",
   "metadata": {
    "execution": {
     "iopub.execute_input": "2024-10-22T20:20:41.396173Z",
     "iopub.status.busy": "2024-10-22T20:20:41.395646Z",
     "iopub.status.idle": "2024-10-22T20:20:41.534597Z",
     "shell.execute_reply": "2024-10-22T20:20:41.533263Z"
    },
    "papermill": {
     "duration": 0.151736,
     "end_time": "2024-10-22T20:20:41.537317",
     "exception": false,
     "start_time": "2024-10-22T20:20:41.385581",
     "status": "completed"
    },
    "tags": []
   },
   "outputs": [
    {
     "data": {
      "text/html": [
       "<style>#sk-container-id-1 {color: black;background-color: white;}#sk-container-id-1 pre{padding: 0;}#sk-container-id-1 div.sk-toggleable {background-color: white;}#sk-container-id-1 label.sk-toggleable__label {cursor: pointer;display: block;width: 100%;margin-bottom: 0;padding: 0.3em;box-sizing: border-box;text-align: center;}#sk-container-id-1 label.sk-toggleable__label-arrow:before {content: \"▸\";float: left;margin-right: 0.25em;color: #696969;}#sk-container-id-1 label.sk-toggleable__label-arrow:hover:before {color: black;}#sk-container-id-1 div.sk-estimator:hover label.sk-toggleable__label-arrow:before {color: black;}#sk-container-id-1 div.sk-toggleable__content {max-height: 0;max-width: 0;overflow: hidden;text-align: left;background-color: #f0f8ff;}#sk-container-id-1 div.sk-toggleable__content pre {margin: 0.2em;color: black;border-radius: 0.25em;background-color: #f0f8ff;}#sk-container-id-1 input.sk-toggleable__control:checked~div.sk-toggleable__content {max-height: 200px;max-width: 100%;overflow: auto;}#sk-container-id-1 input.sk-toggleable__control:checked~label.sk-toggleable__label-arrow:before {content: \"▾\";}#sk-container-id-1 div.sk-estimator input.sk-toggleable__control:checked~label.sk-toggleable__label {background-color: #d4ebff;}#sk-container-id-1 div.sk-label input.sk-toggleable__control:checked~label.sk-toggleable__label {background-color: #d4ebff;}#sk-container-id-1 input.sk-hidden--visually {border: 0;clip: rect(1px 1px 1px 1px);clip: rect(1px, 1px, 1px, 1px);height: 1px;margin: -1px;overflow: hidden;padding: 0;position: absolute;width: 1px;}#sk-container-id-1 div.sk-estimator {font-family: monospace;background-color: #f0f8ff;border: 1px dotted black;border-radius: 0.25em;box-sizing: border-box;margin-bottom: 0.5em;}#sk-container-id-1 div.sk-estimator:hover {background-color: #d4ebff;}#sk-container-id-1 div.sk-parallel-item::after {content: \"\";width: 100%;border-bottom: 1px solid gray;flex-grow: 1;}#sk-container-id-1 div.sk-label:hover label.sk-toggleable__label {background-color: #d4ebff;}#sk-container-id-1 div.sk-serial::before {content: \"\";position: absolute;border-left: 1px solid gray;box-sizing: border-box;top: 0;bottom: 0;left: 50%;z-index: 0;}#sk-container-id-1 div.sk-serial {display: flex;flex-direction: column;align-items: center;background-color: white;padding-right: 0.2em;padding-left: 0.2em;position: relative;}#sk-container-id-1 div.sk-item {position: relative;z-index: 1;}#sk-container-id-1 div.sk-parallel {display: flex;align-items: stretch;justify-content: center;background-color: white;position: relative;}#sk-container-id-1 div.sk-item::before, #sk-container-id-1 div.sk-parallel-item::before {content: \"\";position: absolute;border-left: 1px solid gray;box-sizing: border-box;top: 0;bottom: 0;left: 50%;z-index: -1;}#sk-container-id-1 div.sk-parallel-item {display: flex;flex-direction: column;z-index: 1;position: relative;background-color: white;}#sk-container-id-1 div.sk-parallel-item:first-child::after {align-self: flex-end;width: 50%;}#sk-container-id-1 div.sk-parallel-item:last-child::after {align-self: flex-start;width: 50%;}#sk-container-id-1 div.sk-parallel-item:only-child::after {width: 0;}#sk-container-id-1 div.sk-dashed-wrapped {border: 1px dashed gray;margin: 0 0.4em 0.5em 0.4em;box-sizing: border-box;padding-bottom: 0.4em;background-color: white;}#sk-container-id-1 div.sk-label label {font-family: monospace;font-weight: bold;display: inline-block;line-height: 1.2em;}#sk-container-id-1 div.sk-label-container {text-align: center;}#sk-container-id-1 div.sk-container {/* jupyter's `normalize.less` sets `[hidden] { display: none; }` but bootstrap.min.css set `[hidden] { display: none !important; }` so we also need the `!important` here to be able to override the default hidden behavior on the sphinx rendered scikit-learn.org. See: https://github.com/scikit-learn/scikit-learn/issues/21755 */display: inline-block !important;position: relative;}#sk-container-id-1 div.sk-text-repr-fallback {display: none;}</style><div id=\"sk-container-id-1\" class=\"sk-top-container\"><div class=\"sk-text-repr-fallback\"><pre>GradientBoostingRegressor(random_state=42)</pre><b>In a Jupyter environment, please rerun this cell to show the HTML representation or trust the notebook. <br />On GitHub, the HTML representation is unable to render, please try loading this page with nbviewer.org.</b></div><div class=\"sk-container\" hidden><div class=\"sk-item\"><div class=\"sk-estimator sk-toggleable\"><input class=\"sk-toggleable__control sk-hidden--visually\" id=\"sk-estimator-id-1\" type=\"checkbox\" checked><label for=\"sk-estimator-id-1\" class=\"sk-toggleable__label sk-toggleable__label-arrow\">GradientBoostingRegressor</label><div class=\"sk-toggleable__content\"><pre>GradientBoostingRegressor(random_state=42)</pre></div></div></div></div></div>"
      ],
      "text/plain": [
       "GradientBoostingRegressor(random_state=42)"
      ]
     },
     "execution_count": 14,
     "metadata": {},
     "output_type": "execute_result"
    }
   ],
   "source": [
    "# Initialize the model\n",
    "model = GradientBoostingRegressor(random_state=42)\n",
    "\n",
    "# Fit the model\n",
    "model.fit(X_train, y_train)"
   ]
  },
  {
   "cell_type": "markdown",
   "id": "143da918",
   "metadata": {
    "papermill": {
     "duration": 0.007818,
     "end_time": "2024-10-22T20:20:41.553207",
     "exception": false,
     "start_time": "2024-10-22T20:20:41.545389",
     "status": "completed"
    },
    "tags": []
   },
   "source": [
    "### Initialize k crossvalidation\n",
    "#### Cross-Validation Score (Cross-Val Score) is a metric used to evaluate the performance of a model on unseen data"
   ]
  },
  {
   "cell_type": "code",
   "execution_count": 15,
   "id": "7b2ffcee",
   "metadata": {
    "execution": {
     "iopub.execute_input": "2024-10-22T20:20:41.571655Z",
     "iopub.status.busy": "2024-10-22T20:20:41.571236Z",
     "iopub.status.idle": "2024-10-22T20:20:42.749160Z",
     "shell.execute_reply": "2024-10-22T20:20:42.747695Z"
    },
    "papermill": {
     "duration": 1.190348,
     "end_time": "2024-10-22T20:20:42.751710",
     "exception": false,
     "start_time": "2024-10-22T20:20:41.561362",
     "status": "completed"
    },
    "tags": []
   },
   "outputs": [
    {
     "name": "stdout",
     "output_type": "stream",
     "text": [
      "Cross-validated MSE: 22539179.595214732\n"
     ]
    }
   ],
   "source": [
    "# Perform 10-fold CV\n",
    "scores = cross_val_score(model, X_train, y_train, scoring='neg_mean_squared_error', cv=10)\n",
    "print(f\"Cross-validated MSE: {-np.mean(scores)}\")"
   ]
  },
  {
   "cell_type": "markdown",
   "id": "da3a5eb8",
   "metadata": {
    "papermill": {
     "duration": 0.008032,
     "end_time": "2024-10-22T20:20:42.768008",
     "exception": false,
     "start_time": "2024-10-22T20:20:42.759976",
     "status": "completed"
    },
    "tags": []
   },
   "source": [
    "### Defining the hyperparameter "
   ]
  },
  {
   "cell_type": "code",
   "execution_count": 16,
   "id": "61fac294",
   "metadata": {
    "execution": {
     "iopub.execute_input": "2024-10-22T20:20:42.786849Z",
     "iopub.status.busy": "2024-10-22T20:20:42.786424Z",
     "iopub.status.idle": "2024-10-22T20:20:42.792625Z",
     "shell.execute_reply": "2024-10-22T20:20:42.791151Z"
    },
    "papermill": {
     "duration": 0.019027,
     "end_time": "2024-10-22T20:20:42.795184",
     "exception": false,
     "start_time": "2024-10-22T20:20:42.776157",
     "status": "completed"
    },
    "tags": []
   },
   "outputs": [],
   "source": [
    "# Define the hyperparameter grid to search over\n",
    "param_grid = {\n",
    "    'n_estimators': [100, 200, 300, 400, 500],\n",
    "    'learning_rate': [0.01, 0.02, 0.025, 0.05, 0.1, 1],\n",
    "    'max_depth': [3, 4, 5,]\n",
    "}"
   ]
  },
  {
   "cell_type": "markdown",
   "id": "590143c0",
   "metadata": {
    "papermill": {
     "duration": 0.007821,
     "end_time": "2024-10-22T20:20:42.811800",
     "exception": false,
     "start_time": "2024-10-22T20:20:42.803979",
     "status": "completed"
    },
    "tags": []
   },
   "source": [
    "## Using GridSearchCV \n",
    "### GridSearchCV is a powerful tool for hyperparameter tuning in machine learning and can be used to find the best set of hyperparameters for a given model and dataset"
   ]
  },
  {
   "cell_type": "code",
   "execution_count": 17,
   "id": "a2ada793",
   "metadata": {
    "execution": {
     "iopub.execute_input": "2024-10-22T20:20:42.830059Z",
     "iopub.status.busy": "2024-10-22T20:20:42.829550Z",
     "iopub.status.idle": "2024-10-22T20:23:00.646348Z",
     "shell.execute_reply": "2024-10-22T20:23:00.644783Z"
    },
    "papermill": {
     "duration": 137.835828,
     "end_time": "2024-10-22T20:23:00.655841",
     "exception": false,
     "start_time": "2024-10-22T20:20:42.820013",
     "status": "completed"
    },
    "tags": []
   },
   "outputs": [
    {
     "name": "stdout",
     "output_type": "stream",
     "text": [
      "Fitting 10 folds for each of 90 candidates, totalling 900 fits\n",
      "Best parameters: {'learning_rate': 0.01, 'max_depth': 3, 'n_estimators': 400}\n"
     ]
    }
   ],
   "source": [
    "# Initialize the grid search\n",
    "grid_search = GridSearchCV(estimator=model, param_grid=param_grid, cv=10, scoring='neg_mean_squared_error', n_jobs=-1, verbose=1)\n",
    "\n",
    "# Fit the grid search\n",
    "grid_search.fit(X_train, y_train)\n",
    "\n",
    "# Get the best parameters\n",
    "best_params = grid_search.best_params_\n",
    "print(\"Best parameters:\", best_params)"
   ]
  },
  {
   "cell_type": "code",
   "execution_count": 18,
   "id": "c67585c3",
   "metadata": {
    "execution": {
     "iopub.execute_input": "2024-10-22T20:23:00.675052Z",
     "iopub.status.busy": "2024-10-22T20:23:00.674007Z",
     "iopub.status.idle": "2024-10-22T20:23:00.679860Z",
     "shell.execute_reply": "2024-10-22T20:23:00.678756Z"
    },
    "papermill": {
     "duration": 0.018264,
     "end_time": "2024-10-22T20:23:00.682390",
     "exception": false,
     "start_time": "2024-10-22T20:23:00.664126",
     "status": "completed"
    },
    "tags": []
   },
   "outputs": [],
   "source": [
    "# Update the model with the best parameters\n",
    "model = grid_search.best_estimator_"
   ]
  },
  {
   "cell_type": "code",
   "execution_count": 19,
   "id": "6ccbc5b8",
   "metadata": {
    "execution": {
     "iopub.execute_input": "2024-10-22T20:23:00.700441Z",
     "iopub.status.busy": "2024-10-22T20:23:00.699994Z",
     "iopub.status.idle": "2024-10-22T20:23:00.710444Z",
     "shell.execute_reply": "2024-10-22T20:23:00.709040Z"
    },
    "papermill": {
     "duration": 0.022573,
     "end_time": "2024-10-22T20:23:00.713112",
     "exception": false,
     "start_time": "2024-10-22T20:23:00.690539",
     "status": "completed"
    },
    "tags": []
   },
   "outputs": [],
   "source": [
    "# Make predictions\n",
    "y_pred = model.predict(X_test)"
   ]
  },
  {
   "cell_type": "markdown",
   "id": "4dd0070b",
   "metadata": {
    "papermill": {
     "duration": 0.008197,
     "end_time": "2024-10-22T20:23:00.729556",
     "exception": false,
     "start_time": "2024-10-22T20:23:00.721359",
     "status": "completed"
    },
    "tags": []
   },
   "source": [
    "### Calculate the MAE , MSE ,RMSE,R2"
   ]
  },
  {
   "cell_type": "code",
   "execution_count": 20,
   "id": "1d0b7035",
   "metadata": {
    "execution": {
     "iopub.execute_input": "2024-10-22T20:23:00.747900Z",
     "iopub.status.busy": "2024-10-22T20:23:00.747480Z",
     "iopub.status.idle": "2024-10-22T20:23:00.757116Z",
     "shell.execute_reply": "2024-10-22T20:23:00.755945Z"
    },
    "papermill": {
     "duration": 0.02193,
     "end_time": "2024-10-22T20:23:00.759947",
     "exception": false,
     "start_time": "2024-10-22T20:23:00.738017",
     "status": "completed"
    },
    "tags": []
   },
   "outputs": [
    {
     "name": "stdout",
     "output_type": "stream",
     "text": [
      "MAE: 2511.815199736201\n",
      "MSE: 18284244.516552158\n",
      "RMSE: 4276.00801175023\n",
      "R2 Score: 0.9004971911432395\n"
     ]
    }
   ],
   "source": [
    "# Calculate MAE, MSE, RMSE, R2\n",
    "mae = mean_absolute_error(y_test, y_pred)\n",
    "mse = mean_squared_error(y_test, y_pred)\n",
    "rmse = mse**(0.5)  \n",
    "r2 = r2_score(y_test, y_pred)\n",
    "\n",
    "print(\"MAE:\", mae)\n",
    "print(\"MSE:\", mse)\n",
    "print(\"RMSE:\", rmse)\n",
    "print(\"R2 Score:\", r2)"
   ]
  },
  {
   "cell_type": "code",
   "execution_count": null,
   "id": "1cd08a12",
   "metadata": {
    "papermill": {
     "duration": 0.008312,
     "end_time": "2024-10-22T20:23:00.776423",
     "exception": false,
     "start_time": "2024-10-22T20:23:00.768111",
     "status": "completed"
    },
    "tags": []
   },
   "outputs": [],
   "source": []
  }
 ],
 "metadata": {
  "kaggle": {
   "accelerator": "none",
   "dataSources": [
    {
     "datasetId": 13720,
     "sourceId": 18513,
     "sourceType": "datasetVersion"
    }
   ],
   "dockerImageVersionId": 30786,
   "isGpuEnabled": false,
   "isInternetEnabled": true,
   "language": "python",
   "sourceType": "notebook"
  },
  "kernelspec": {
   "display_name": "Python 3",
   "language": "python",
   "name": "python3"
  },
  "language_info": {
   "codemirror_mode": {
    "name": "ipython",
    "version": 3
   },
   "file_extension": ".py",
   "mimetype": "text/x-python",
   "name": "python",
   "nbconvert_exporter": "python",
   "pygments_lexer": "ipython3",
   "version": "3.10.14"
  },
  "papermill": {
   "default_parameters": {},
   "duration": 148.186739,
   "end_time": "2024-10-22T20:23:03.407021",
   "environment_variables": {},
   "exception": null,
   "input_path": "__notebook__.ipynb",
   "output_path": "__notebook__.ipynb",
   "parameters": {},
   "start_time": "2024-10-22T20:20:35.220282",
   "version": "2.6.0"
  }
 },
 "nbformat": 4,
 "nbformat_minor": 5
}
