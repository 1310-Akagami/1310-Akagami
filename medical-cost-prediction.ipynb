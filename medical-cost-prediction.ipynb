{
 "cells": [
  {
   "cell_type": "code",
   "execution_count": 1,
   "id": "7a013672",
   "metadata": {
    "execution": {
     "iopub.execute_input": "2024-10-22T19:44:50.435794Z",
     "iopub.status.busy": "2024-10-22T19:44:50.435256Z",
     "iopub.status.idle": "2024-10-22T19:44:51.285210Z",
     "shell.execute_reply": "2024-10-22T19:44:51.283993Z"
    },
    "papermill": {
     "duration": 0.860625,
     "end_time": "2024-10-22T19:44:51.287842",
     "exception": false,
     "start_time": "2024-10-22T19:44:50.427217",
     "status": "completed"
    },
    "tags": []
   },
   "outputs": [
    {
     "name": "stdout",
     "output_type": "stream",
     "text": [
      "/kaggle/input/insurance/insurance.csv\n"
     ]
    }
   ],
   "source": [
    "# This Python 3 environment comes with many helpful analytics libraries installed\n",
    "# It is defined by the kaggle/python Docker image: https://github.com/kaggle/docker-python\n",
    "# For example, here's several helpful packages to load\n",
    "\n",
    "import numpy as np # linear algebra\n",
    "import pandas as pd # data processing, CSV file I/O (e.g. pd.read_csv)\n",
    "\n",
    "# Input data files are available in the read-only \"../input/\" directory\n",
    "# For example, running this (by clicking run or pressing Shift+Enter) will list all files under the input directory\n",
    "\n",
    "import os\n",
    "for dirname, _, filenames in os.walk('/kaggle/input'):\n",
    "    for filename in filenames:\n",
    "        print(os.path.join(dirname, filename))\n",
    "\n",
    "# You can write up to 20GB to the current directory (/kaggle/working/) that gets preserved as output when you create a version using \"Save & Run All\" \n",
    "# You can also write temporary files to /kaggle/temp/, but they won't be saved outside of the current session"
   ]
  },
  {
   "cell_type": "code",
   "execution_count": 2,
   "id": "2daa6d85",
   "metadata": {
    "execution": {
     "iopub.execute_input": "2024-10-22T19:44:51.301231Z",
     "iopub.status.busy": "2024-10-22T19:44:51.300664Z",
     "iopub.status.idle": "2024-10-22T19:44:53.019305Z",
     "shell.execute_reply": "2024-10-22T19:44:53.018263Z"
    },
    "papermill": {
     "duration": 1.72864,
     "end_time": "2024-10-22T19:44:53.022350",
     "exception": false,
     "start_time": "2024-10-22T19:44:51.293710",
     "status": "completed"
    },
    "tags": []
   },
   "outputs": [],
   "source": [
    "from sklearn.model_selection import GridSearchCV,train_test_split,cross_val_score\n",
    "from sklearn.ensemble import GradientBoostingRegressor\n",
    "from sklearn.preprocessing import LabelEncoder\n",
    "from sklearn.metrics import mean_squared_error,mean_absolute_error,r2_score"
   ]
  },
  {
   "cell_type": "code",
   "execution_count": 3,
   "id": "c811e671",
   "metadata": {
    "execution": {
     "iopub.execute_input": "2024-10-22T19:44:53.036803Z",
     "iopub.status.busy": "2024-10-22T19:44:53.035356Z",
     "iopub.status.idle": "2024-10-22T19:44:53.057257Z",
     "shell.execute_reply": "2024-10-22T19:44:53.055918Z"
    },
    "papermill": {
     "duration": 0.031709,
     "end_time": "2024-10-22T19:44:53.059938",
     "exception": false,
     "start_time": "2024-10-22T19:44:53.028229",
     "status": "completed"
    },
    "tags": []
   },
   "outputs": [],
   "source": [
    "df= pd.read_csv('/kaggle/input/insurance/insurance.csv')"
   ]
  },
  {
   "cell_type": "code",
   "execution_count": 4,
   "id": "290ac242",
   "metadata": {
    "execution": {
     "iopub.execute_input": "2024-10-22T19:44:53.073905Z",
     "iopub.status.busy": "2024-10-22T19:44:53.072886Z",
     "iopub.status.idle": "2024-10-22T19:44:53.107755Z",
     "shell.execute_reply": "2024-10-22T19:44:53.106431Z"
    },
    "papermill": {
     "duration": 0.044654,
     "end_time": "2024-10-22T19:44:53.110401",
     "exception": false,
     "start_time": "2024-10-22T19:44:53.065747",
     "status": "completed"
    },
    "tags": []
   },
   "outputs": [
    {
     "name": "stdout",
     "output_type": "stream",
     "text": [
      "<class 'pandas.core.frame.DataFrame'>\n",
      "RangeIndex: 1338 entries, 0 to 1337\n",
      "Data columns (total 7 columns):\n",
      " #   Column    Non-Null Count  Dtype  \n",
      "---  ------    --------------  -----  \n",
      " 0   age       1338 non-null   int64  \n",
      " 1   sex       1338 non-null   object \n",
      " 2   bmi       1338 non-null   float64\n",
      " 3   children  1338 non-null   int64  \n",
      " 4   smoker    1338 non-null   object \n",
      " 5   region    1338 non-null   object \n",
      " 6   charges   1338 non-null   float64\n",
      "dtypes: float64(2), int64(2), object(3)\n",
      "memory usage: 73.3+ KB\n"
     ]
    }
   ],
   "source": [
    "df.info()"
   ]
  },
  {
   "cell_type": "code",
   "execution_count": 5,
   "id": "f4f54fca",
   "metadata": {
    "execution": {
     "iopub.execute_input": "2024-10-22T19:44:53.124745Z",
     "iopub.status.busy": "2024-10-22T19:44:53.123772Z",
     "iopub.status.idle": "2024-10-22T19:44:53.144855Z",
     "shell.execute_reply": "2024-10-22T19:44:53.143777Z"
    },
    "papermill": {
     "duration": 0.030663,
     "end_time": "2024-10-22T19:44:53.147218",
     "exception": false,
     "start_time": "2024-10-22T19:44:53.116555",
     "status": "completed"
    },
    "tags": []
   },
   "outputs": [
    {
     "data": {
      "text/html": [
       "<div>\n",
       "<style scoped>\n",
       "    .dataframe tbody tr th:only-of-type {\n",
       "        vertical-align: middle;\n",
       "    }\n",
       "\n",
       "    .dataframe tbody tr th {\n",
       "        vertical-align: top;\n",
       "    }\n",
       "\n",
       "    .dataframe thead th {\n",
       "        text-align: right;\n",
       "    }\n",
       "</style>\n",
       "<table border=\"1\" class=\"dataframe\">\n",
       "  <thead>\n",
       "    <tr style=\"text-align: right;\">\n",
       "      <th></th>\n",
       "      <th>age</th>\n",
       "      <th>sex</th>\n",
       "      <th>bmi</th>\n",
       "      <th>children</th>\n",
       "      <th>smoker</th>\n",
       "      <th>region</th>\n",
       "      <th>charges</th>\n",
       "    </tr>\n",
       "  </thead>\n",
       "  <tbody>\n",
       "    <tr>\n",
       "      <th>0</th>\n",
       "      <td>19</td>\n",
       "      <td>female</td>\n",
       "      <td>27.900</td>\n",
       "      <td>0</td>\n",
       "      <td>yes</td>\n",
       "      <td>southwest</td>\n",
       "      <td>16884.92400</td>\n",
       "    </tr>\n",
       "    <tr>\n",
       "      <th>1</th>\n",
       "      <td>18</td>\n",
       "      <td>male</td>\n",
       "      <td>33.770</td>\n",
       "      <td>1</td>\n",
       "      <td>no</td>\n",
       "      <td>southeast</td>\n",
       "      <td>1725.55230</td>\n",
       "    </tr>\n",
       "    <tr>\n",
       "      <th>2</th>\n",
       "      <td>28</td>\n",
       "      <td>male</td>\n",
       "      <td>33.000</td>\n",
       "      <td>3</td>\n",
       "      <td>no</td>\n",
       "      <td>southeast</td>\n",
       "      <td>4449.46200</td>\n",
       "    </tr>\n",
       "    <tr>\n",
       "      <th>3</th>\n",
       "      <td>33</td>\n",
       "      <td>male</td>\n",
       "      <td>22.705</td>\n",
       "      <td>0</td>\n",
       "      <td>no</td>\n",
       "      <td>northwest</td>\n",
       "      <td>21984.47061</td>\n",
       "    </tr>\n",
       "    <tr>\n",
       "      <th>4</th>\n",
       "      <td>32</td>\n",
       "      <td>male</td>\n",
       "      <td>28.880</td>\n",
       "      <td>0</td>\n",
       "      <td>no</td>\n",
       "      <td>northwest</td>\n",
       "      <td>3866.85520</td>\n",
       "    </tr>\n",
       "  </tbody>\n",
       "</table>\n",
       "</div>"
      ],
      "text/plain": [
       "   age     sex     bmi  children smoker     region      charges\n",
       "0   19  female  27.900         0    yes  southwest  16884.92400\n",
       "1   18    male  33.770         1     no  southeast   1725.55230\n",
       "2   28    male  33.000         3     no  southeast   4449.46200\n",
       "3   33    male  22.705         0     no  northwest  21984.47061\n",
       "4   32    male  28.880         0     no  northwest   3866.85520"
      ]
     },
     "execution_count": 5,
     "metadata": {},
     "output_type": "execute_result"
    }
   ],
   "source": [
    "df.head()"
   ]
  },
  {
   "cell_type": "code",
   "execution_count": 6,
   "id": "0c4f5a22",
   "metadata": {
    "execution": {
     "iopub.execute_input": "2024-10-22T19:44:53.161968Z",
     "iopub.status.busy": "2024-10-22T19:44:53.161520Z",
     "iopub.status.idle": "2024-10-22T19:44:53.168446Z",
     "shell.execute_reply": "2024-10-22T19:44:53.167288Z"
    },
    "papermill": {
     "duration": 0.017661,
     "end_time": "2024-10-22T19:44:53.170894",
     "exception": false,
     "start_time": "2024-10-22T19:44:53.153233",
     "status": "completed"
    },
    "tags": []
   },
   "outputs": [
    {
     "data": {
      "text/plain": [
       "(1338, 7)"
      ]
     },
     "execution_count": 6,
     "metadata": {},
     "output_type": "execute_result"
    }
   ],
   "source": [
    "df.shape"
   ]
  },
  {
   "cell_type": "code",
   "execution_count": 7,
   "id": "9e4c5c87",
   "metadata": {
    "execution": {
     "iopub.execute_input": "2024-10-22T19:44:53.184943Z",
     "iopub.status.busy": "2024-10-22T19:44:53.184274Z",
     "iopub.status.idle": "2024-10-22T19:44:53.210427Z",
     "shell.execute_reply": "2024-10-22T19:44:53.209226Z"
    },
    "papermill": {
     "duration": 0.035886,
     "end_time": "2024-10-22T19:44:53.212964",
     "exception": false,
     "start_time": "2024-10-22T19:44:53.177078",
     "status": "completed"
    },
    "tags": []
   },
   "outputs": [
    {
     "data": {
      "text/html": [
       "<div>\n",
       "<style scoped>\n",
       "    .dataframe tbody tr th:only-of-type {\n",
       "        vertical-align: middle;\n",
       "    }\n",
       "\n",
       "    .dataframe tbody tr th {\n",
       "        vertical-align: top;\n",
       "    }\n",
       "\n",
       "    .dataframe thead th {\n",
       "        text-align: right;\n",
       "    }\n",
       "</style>\n",
       "<table border=\"1\" class=\"dataframe\">\n",
       "  <thead>\n",
       "    <tr style=\"text-align: right;\">\n",
       "      <th></th>\n",
       "      <th>age</th>\n",
       "      <th>bmi</th>\n",
       "      <th>children</th>\n",
       "      <th>charges</th>\n",
       "    </tr>\n",
       "  </thead>\n",
       "  <tbody>\n",
       "    <tr>\n",
       "      <th>count</th>\n",
       "      <td>1338.000000</td>\n",
       "      <td>1338.000000</td>\n",
       "      <td>1338.000000</td>\n",
       "      <td>1338.000000</td>\n",
       "    </tr>\n",
       "    <tr>\n",
       "      <th>mean</th>\n",
       "      <td>39.207025</td>\n",
       "      <td>30.663397</td>\n",
       "      <td>1.094918</td>\n",
       "      <td>13270.422265</td>\n",
       "    </tr>\n",
       "    <tr>\n",
       "      <th>std</th>\n",
       "      <td>14.049960</td>\n",
       "      <td>6.098187</td>\n",
       "      <td>1.205493</td>\n",
       "      <td>12110.011237</td>\n",
       "    </tr>\n",
       "    <tr>\n",
       "      <th>min</th>\n",
       "      <td>18.000000</td>\n",
       "      <td>15.960000</td>\n",
       "      <td>0.000000</td>\n",
       "      <td>1121.873900</td>\n",
       "    </tr>\n",
       "    <tr>\n",
       "      <th>25%</th>\n",
       "      <td>27.000000</td>\n",
       "      <td>26.296250</td>\n",
       "      <td>0.000000</td>\n",
       "      <td>4740.287150</td>\n",
       "    </tr>\n",
       "    <tr>\n",
       "      <th>50%</th>\n",
       "      <td>39.000000</td>\n",
       "      <td>30.400000</td>\n",
       "      <td>1.000000</td>\n",
       "      <td>9382.033000</td>\n",
       "    </tr>\n",
       "    <tr>\n",
       "      <th>75%</th>\n",
       "      <td>51.000000</td>\n",
       "      <td>34.693750</td>\n",
       "      <td>2.000000</td>\n",
       "      <td>16639.912515</td>\n",
       "    </tr>\n",
       "    <tr>\n",
       "      <th>max</th>\n",
       "      <td>64.000000</td>\n",
       "      <td>53.130000</td>\n",
       "      <td>5.000000</td>\n",
       "      <td>63770.428010</td>\n",
       "    </tr>\n",
       "  </tbody>\n",
       "</table>\n",
       "</div>"
      ],
      "text/plain": [
       "               age          bmi     children       charges\n",
       "count  1338.000000  1338.000000  1338.000000   1338.000000\n",
       "mean     39.207025    30.663397     1.094918  13270.422265\n",
       "std      14.049960     6.098187     1.205493  12110.011237\n",
       "min      18.000000    15.960000     0.000000   1121.873900\n",
       "25%      27.000000    26.296250     0.000000   4740.287150\n",
       "50%      39.000000    30.400000     1.000000   9382.033000\n",
       "75%      51.000000    34.693750     2.000000  16639.912515\n",
       "max      64.000000    53.130000     5.000000  63770.428010"
      ]
     },
     "execution_count": 7,
     "metadata": {},
     "output_type": "execute_result"
    }
   ],
   "source": [
    "df.describe()"
   ]
  },
  {
   "cell_type": "code",
   "execution_count": 8,
   "id": "b1aa7e22",
   "metadata": {
    "execution": {
     "iopub.execute_input": "2024-10-22T19:44:53.227307Z",
     "iopub.status.busy": "2024-10-22T19:44:53.226867Z",
     "iopub.status.idle": "2024-10-22T19:44:53.238293Z",
     "shell.execute_reply": "2024-10-22T19:44:53.237065Z"
    },
    "papermill": {
     "duration": 0.021233,
     "end_time": "2024-10-22T19:44:53.240544",
     "exception": false,
     "start_time": "2024-10-22T19:44:53.219311",
     "status": "completed"
    },
    "tags": []
   },
   "outputs": [
    {
     "name": "stdout",
     "output_type": "stream",
     "text": [
      "no of duplicated rows: (1, 7)\n"
     ]
    }
   ],
   "source": [
    "#Handle Duplicate values\n",
    "duplicate_rows = df[df.duplicated()]\n",
    "print(\"no of duplicated rows:\", duplicate_rows.shape)"
   ]
  },
  {
   "cell_type": "code",
   "execution_count": 9,
   "id": "f6dfbc78",
   "metadata": {
    "execution": {
     "iopub.execute_input": "2024-10-22T19:44:53.255891Z",
     "iopub.status.busy": "2024-10-22T19:44:53.254891Z",
     "iopub.status.idle": "2024-10-22T19:44:53.262887Z",
     "shell.execute_reply": "2024-10-22T19:44:53.261781Z"
    },
    "papermill": {
     "duration": 0.018391,
     "end_time": "2024-10-22T19:44:53.265426",
     "exception": false,
     "start_time": "2024-10-22T19:44:53.247035",
     "status": "completed"
    },
    "tags": []
   },
   "outputs": [],
   "source": [
    "df = df.drop_duplicates()"
   ]
  },
  {
   "cell_type": "markdown",
   "id": "b65851bf",
   "metadata": {
    "papermill": {
     "duration": 0.006085,
     "end_time": "2024-10-22T19:44:53.278032",
     "exception": false,
     "start_time": "2024-10-22T19:44:53.271947",
     "status": "completed"
    },
    "tags": []
   },
   "source": [
    "## Uniqueness"
   ]
  },
  {
   "cell_type": "code",
   "execution_count": 10,
   "id": "5728c71a",
   "metadata": {
    "execution": {
     "iopub.execute_input": "2024-10-22T19:44:53.292624Z",
     "iopub.status.busy": "2024-10-22T19:44:53.292181Z",
     "iopub.status.idle": "2024-10-22T19:44:53.302655Z",
     "shell.execute_reply": "2024-10-22T19:44:53.301268Z"
    },
    "papermill": {
     "duration": 0.02083,
     "end_time": "2024-10-22T19:44:53.305321",
     "exception": false,
     "start_time": "2024-10-22T19:44:53.284491",
     "status": "completed"
    },
    "tags": []
   },
   "outputs": [
    {
     "name": "stdout",
     "output_type": "stream",
     "text": [
      "age: 47 distinct values\n",
      "sex: 2 distinct values\n",
      "bmi: 548 distinct values\n",
      "children: 6 distinct values\n",
      "smoker: 2 distinct values\n",
      "region: 4 distinct values\n",
      "charges: 1337 distinct values\n"
     ]
    }
   ],
   "source": [
    "# Check each column and count the number of distinct values present \n",
    "for column in df.columns:\n",
    "    num_distinct_values = len(df[column].unique())\n",
    "    print(f\"{column}: {num_distinct_values} distinct values\")"
   ]
  },
  {
   "cell_type": "code",
   "execution_count": 11,
   "id": "e5cf2bff",
   "metadata": {
    "execution": {
     "iopub.execute_input": "2024-10-22T19:44:53.320763Z",
     "iopub.status.busy": "2024-10-22T19:44:53.320336Z",
     "iopub.status.idle": "2024-10-22T19:44:53.327737Z",
     "shell.execute_reply": "2024-10-22T19:44:53.326567Z"
    },
    "papermill": {
     "duration": 0.018336,
     "end_time": "2024-10-22T19:44:53.330577",
     "exception": false,
     "start_time": "2024-10-22T19:44:53.312241",
     "status": "completed"
    },
    "tags": []
   },
   "outputs": [
    {
     "name": "stdout",
     "output_type": "stream",
     "text": [
      "age         0\n",
      "sex         0\n",
      "bmi         0\n",
      "children    0\n",
      "smoker      0\n",
      "region      0\n",
      "charges     0\n",
      "dtype: int64\n"
     ]
    }
   ],
   "source": [
    "#missing values\n",
    "print(df.isnull().sum())"
   ]
  },
  {
   "cell_type": "markdown",
   "id": "3585f033",
   "metadata": {
    "papermill": {
     "duration": 0.006445,
     "end_time": "2024-10-22T19:44:53.343512",
     "exception": false,
     "start_time": "2024-10-22T19:44:53.337067",
     "status": "completed"
    },
    "tags": []
   },
   "source": [
    "## Encoding"
   ]
  },
  {
   "cell_type": "code",
   "execution_count": 12,
   "id": "774cd059",
   "metadata": {
    "execution": {
     "iopub.execute_input": "2024-10-22T19:44:53.358264Z",
     "iopub.status.busy": "2024-10-22T19:44:53.357789Z",
     "iopub.status.idle": "2024-10-22T19:44:53.366918Z",
     "shell.execute_reply": "2024-10-22T19:44:53.365822Z"
    },
    "papermill": {
     "duration": 0.019435,
     "end_time": "2024-10-22T19:44:53.369447",
     "exception": false,
     "start_time": "2024-10-22T19:44:53.350012",
     "status": "completed"
    },
    "tags": []
   },
   "outputs": [],
   "source": [
    "#Apply label encoding to the categorical values\n",
    "le = LabelEncoder()\n",
    "df[\"sex\"] = le.fit_transform(df[\"sex\"])\n",
    "df[\"smoker\"] = le.fit_transform(df[\"smoker\"])\n",
    "df[\"region\"] = le.fit_transform(df[\"region\"])"
   ]
  },
  {
   "cell_type": "code",
   "execution_count": 13,
   "id": "f0fdbf16",
   "metadata": {
    "execution": {
     "iopub.execute_input": "2024-10-22T19:44:53.384872Z",
     "iopub.status.busy": "2024-10-22T19:44:53.384444Z",
     "iopub.status.idle": "2024-10-22T19:44:53.396380Z",
     "shell.execute_reply": "2024-10-22T19:44:53.395297Z"
    },
    "papermill": {
     "duration": 0.022928,
     "end_time": "2024-10-22T19:44:53.399011",
     "exception": false,
     "start_time": "2024-10-22T19:44:53.376083",
     "status": "completed"
    },
    "tags": []
   },
   "outputs": [],
   "source": [
    "# Split data into features (X) and target (y)\n",
    "X = df.drop(columns=['charges'])\n",
    "y = df['charges']\n",
    "\n",
    "# Split into train and test sets\n",
    "X_train, X_test, y_train, y_test = train_test_split(X, y, test_size=0.2, random_state=42)"
   ]
  },
  {
   "cell_type": "code",
   "execution_count": 14,
   "id": "52f321f4",
   "metadata": {
    "execution": {
     "iopub.execute_input": "2024-10-22T19:44:53.414115Z",
     "iopub.status.busy": "2024-10-22T19:44:53.413664Z",
     "iopub.status.idle": "2024-10-22T19:44:53.550118Z",
     "shell.execute_reply": "2024-10-22T19:44:53.548965Z"
    },
    "papermill": {
     "duration": 0.146834,
     "end_time": "2024-10-22T19:44:53.552635",
     "exception": false,
     "start_time": "2024-10-22T19:44:53.405801",
     "status": "completed"
    },
    "tags": []
   },
   "outputs": [
    {
     "data": {
      "text/html": [
       "<style>#sk-container-id-1 {color: black;background-color: white;}#sk-container-id-1 pre{padding: 0;}#sk-container-id-1 div.sk-toggleable {background-color: white;}#sk-container-id-1 label.sk-toggleable__label {cursor: pointer;display: block;width: 100%;margin-bottom: 0;padding: 0.3em;box-sizing: border-box;text-align: center;}#sk-container-id-1 label.sk-toggleable__label-arrow:before {content: \"▸\";float: left;margin-right: 0.25em;color: #696969;}#sk-container-id-1 label.sk-toggleable__label-arrow:hover:before {color: black;}#sk-container-id-1 div.sk-estimator:hover label.sk-toggleable__label-arrow:before {color: black;}#sk-container-id-1 div.sk-toggleable__content {max-height: 0;max-width: 0;overflow: hidden;text-align: left;background-color: #f0f8ff;}#sk-container-id-1 div.sk-toggleable__content pre {margin: 0.2em;color: black;border-radius: 0.25em;background-color: #f0f8ff;}#sk-container-id-1 input.sk-toggleable__control:checked~div.sk-toggleable__content {max-height: 200px;max-width: 100%;overflow: auto;}#sk-container-id-1 input.sk-toggleable__control:checked~label.sk-toggleable__label-arrow:before {content: \"▾\";}#sk-container-id-1 div.sk-estimator input.sk-toggleable__control:checked~label.sk-toggleable__label {background-color: #d4ebff;}#sk-container-id-1 div.sk-label input.sk-toggleable__control:checked~label.sk-toggleable__label {background-color: #d4ebff;}#sk-container-id-1 input.sk-hidden--visually {border: 0;clip: rect(1px 1px 1px 1px);clip: rect(1px, 1px, 1px, 1px);height: 1px;margin: -1px;overflow: hidden;padding: 0;position: absolute;width: 1px;}#sk-container-id-1 div.sk-estimator {font-family: monospace;background-color: #f0f8ff;border: 1px dotted black;border-radius: 0.25em;box-sizing: border-box;margin-bottom: 0.5em;}#sk-container-id-1 div.sk-estimator:hover {background-color: #d4ebff;}#sk-container-id-1 div.sk-parallel-item::after {content: \"\";width: 100%;border-bottom: 1px solid gray;flex-grow: 1;}#sk-container-id-1 div.sk-label:hover label.sk-toggleable__label {background-color: #d4ebff;}#sk-container-id-1 div.sk-serial::before {content: \"\";position: absolute;border-left: 1px solid gray;box-sizing: border-box;top: 0;bottom: 0;left: 50%;z-index: 0;}#sk-container-id-1 div.sk-serial {display: flex;flex-direction: column;align-items: center;background-color: white;padding-right: 0.2em;padding-left: 0.2em;position: relative;}#sk-container-id-1 div.sk-item {position: relative;z-index: 1;}#sk-container-id-1 div.sk-parallel {display: flex;align-items: stretch;justify-content: center;background-color: white;position: relative;}#sk-container-id-1 div.sk-item::before, #sk-container-id-1 div.sk-parallel-item::before {content: \"\";position: absolute;border-left: 1px solid gray;box-sizing: border-box;top: 0;bottom: 0;left: 50%;z-index: -1;}#sk-container-id-1 div.sk-parallel-item {display: flex;flex-direction: column;z-index: 1;position: relative;background-color: white;}#sk-container-id-1 div.sk-parallel-item:first-child::after {align-self: flex-end;width: 50%;}#sk-container-id-1 div.sk-parallel-item:last-child::after {align-self: flex-start;width: 50%;}#sk-container-id-1 div.sk-parallel-item:only-child::after {width: 0;}#sk-container-id-1 div.sk-dashed-wrapped {border: 1px dashed gray;margin: 0 0.4em 0.5em 0.4em;box-sizing: border-box;padding-bottom: 0.4em;background-color: white;}#sk-container-id-1 div.sk-label label {font-family: monospace;font-weight: bold;display: inline-block;line-height: 1.2em;}#sk-container-id-1 div.sk-label-container {text-align: center;}#sk-container-id-1 div.sk-container {/* jupyter's `normalize.less` sets `[hidden] { display: none; }` but bootstrap.min.css set `[hidden] { display: none !important; }` so we also need the `!important` here to be able to override the default hidden behavior on the sphinx rendered scikit-learn.org. See: https://github.com/scikit-learn/scikit-learn/issues/21755 */display: inline-block !important;position: relative;}#sk-container-id-1 div.sk-text-repr-fallback {display: none;}</style><div id=\"sk-container-id-1\" class=\"sk-top-container\"><div class=\"sk-text-repr-fallback\"><pre>GradientBoostingRegressor(random_state=42)</pre><b>In a Jupyter environment, please rerun this cell to show the HTML representation or trust the notebook. <br />On GitHub, the HTML representation is unable to render, please try loading this page with nbviewer.org.</b></div><div class=\"sk-container\" hidden><div class=\"sk-item\"><div class=\"sk-estimator sk-toggleable\"><input class=\"sk-toggleable__control sk-hidden--visually\" id=\"sk-estimator-id-1\" type=\"checkbox\" checked><label for=\"sk-estimator-id-1\" class=\"sk-toggleable__label sk-toggleable__label-arrow\">GradientBoostingRegressor</label><div class=\"sk-toggleable__content\"><pre>GradientBoostingRegressor(random_state=42)</pre></div></div></div></div></div>"
      ],
      "text/plain": [
       "GradientBoostingRegressor(random_state=42)"
      ]
     },
     "execution_count": 14,
     "metadata": {},
     "output_type": "execute_result"
    }
   ],
   "source": [
    "# Initialize the model\n",
    "model = GradientBoostingRegressor(random_state=42)\n",
    "\n",
    "# Fit the model\n",
    "model.fit(X_train, y_train)"
   ]
  },
  {
   "cell_type": "code",
   "execution_count": 15,
   "id": "fa00cb2b",
   "metadata": {
    "execution": {
     "iopub.execute_input": "2024-10-22T19:44:53.568198Z",
     "iopub.status.busy": "2024-10-22T19:44:53.567653Z",
     "iopub.status.idle": "2024-10-22T19:44:54.723738Z",
     "shell.execute_reply": "2024-10-22T19:44:54.722571Z"
    },
    "papermill": {
     "duration": 1.166586,
     "end_time": "2024-10-22T19:44:54.726314",
     "exception": false,
     "start_time": "2024-10-22T19:44:53.559728",
     "status": "completed"
    },
    "tags": []
   },
   "outputs": [
    {
     "name": "stdout",
     "output_type": "stream",
     "text": [
      "Cross-validated MSE: 22539179.595214732\n"
     ]
    }
   ],
   "source": [
    "# Perform 10-fold CV\n",
    "scores = cross_val_score(model, X_train, y_train, scoring='neg_mean_squared_error', cv=10)\n",
    "print(f\"Cross-validated MSE: {-np.mean(scores)}\")"
   ]
  },
  {
   "cell_type": "code",
   "execution_count": 16,
   "id": "66109bac",
   "metadata": {
    "execution": {
     "iopub.execute_input": "2024-10-22T19:44:54.742539Z",
     "iopub.status.busy": "2024-10-22T19:44:54.741570Z",
     "iopub.status.idle": "2024-10-22T19:44:54.747178Z",
     "shell.execute_reply": "2024-10-22T19:44:54.746067Z"
    },
    "papermill": {
     "duration": 0.01604,
     "end_time": "2024-10-22T19:44:54.749354",
     "exception": false,
     "start_time": "2024-10-22T19:44:54.733314",
     "status": "completed"
    },
    "tags": []
   },
   "outputs": [],
   "source": [
    "# Define the hyperparameter grid to search over\n",
    "param_grid = {\n",
    "    'n_estimators': [100, 200, 300,400,500],\n",
    "    'learning_rate': [0.01,0.05, 0.1, 1],\n",
    "    'max_depth': [2,3, 4, 5,]\n",
    "}"
   ]
  },
  {
   "cell_type": "code",
   "execution_count": 17,
   "id": "48a7a187",
   "metadata": {
    "execution": {
     "iopub.execute_input": "2024-10-22T19:44:54.764726Z",
     "iopub.status.busy": "2024-10-22T19:44:54.764290Z",
     "iopub.status.idle": "2024-10-22T19:46:45.743903Z",
     "shell.execute_reply": "2024-10-22T19:46:45.742441Z"
    },
    "papermill": {
     "duration": 110.996411,
     "end_time": "2024-10-22T19:46:45.752587",
     "exception": false,
     "start_time": "2024-10-22T19:44:54.756176",
     "status": "completed"
    },
    "tags": []
   },
   "outputs": [
    {
     "name": "stdout",
     "output_type": "stream",
     "text": [
      "Fitting 10 folds for each of 80 candidates, totalling 800 fits\n",
      "Best parameters: {'learning_rate': 0.05, 'max_depth': 2, 'n_estimators': 200}\n"
     ]
    }
   ],
   "source": [
    "# Initialize the grid search\n",
    "grid_search = GridSearchCV(estimator=model, param_grid=param_grid, cv=10, scoring='neg_mean_squared_error', n_jobs=-1, verbose=1)\n",
    "\n",
    "# Fit the grid search\n",
    "grid_search.fit(X_train, y_train)\n",
    "\n",
    "# Get the best parameters\n",
    "best_params = grid_search.best_params_\n",
    "print(\"Best parameters:\", best_params)"
   ]
  },
  {
   "cell_type": "code",
   "execution_count": 18,
   "id": "5a2d1eaf",
   "metadata": {
    "execution": {
     "iopub.execute_input": "2024-10-22T19:46:45.768566Z",
     "iopub.status.busy": "2024-10-22T19:46:45.768117Z",
     "iopub.status.idle": "2024-10-22T19:46:45.773701Z",
     "shell.execute_reply": "2024-10-22T19:46:45.772603Z"
    },
    "papermill": {
     "duration": 0.016431,
     "end_time": "2024-10-22T19:46:45.776027",
     "exception": false,
     "start_time": "2024-10-22T19:46:45.759596",
     "status": "completed"
    },
    "tags": []
   },
   "outputs": [],
   "source": [
    "# Update the model with the best parameters\n",
    "model = grid_search.best_estimator_"
   ]
  },
  {
   "cell_type": "code",
   "execution_count": 19,
   "id": "751a8057",
   "metadata": {
    "execution": {
     "iopub.execute_input": "2024-10-22T19:46:45.792033Z",
     "iopub.status.busy": "2024-10-22T19:46:45.791490Z",
     "iopub.status.idle": "2024-10-22T19:46:45.799815Z",
     "shell.execute_reply": "2024-10-22T19:46:45.798832Z"
    },
    "papermill": {
     "duration": 0.019116,
     "end_time": "2024-10-22T19:46:45.802256",
     "exception": false,
     "start_time": "2024-10-22T19:46:45.783140",
     "status": "completed"
    },
    "tags": []
   },
   "outputs": [],
   "source": [
    "# Make predictions\n",
    "y_pred = model.predict(X_test)"
   ]
  },
  {
   "cell_type": "code",
   "execution_count": 20,
   "id": "c2f4a8ab",
   "metadata": {
    "execution": {
     "iopub.execute_input": "2024-10-22T19:46:45.818223Z",
     "iopub.status.busy": "2024-10-22T19:46:45.817824Z",
     "iopub.status.idle": "2024-10-22T19:46:45.827321Z",
     "shell.execute_reply": "2024-10-22T19:46:45.826080Z"
    },
    "papermill": {
     "duration": 0.021083,
     "end_time": "2024-10-22T19:46:45.830429",
     "exception": false,
     "start_time": "2024-10-22T19:46:45.809346",
     "status": "completed"
    },
    "tags": []
   },
   "outputs": [
    {
     "name": "stdout",
     "output_type": "stream",
     "text": [
      "MAE: 2496.6919822322075\n",
      "MSE: 17944455.34323263\n",
      "RMSE: 4236.089628800674\n",
      "R2 Score: 0.9023463228989324\n"
     ]
    }
   ],
   "source": [
    "# Calculate MAE, MSE, RMSE, R2\n",
    "mae = mean_absolute_error(y_test, y_pred)\n",
    "mse = mean_squared_error(y_test, y_pred)\n",
    "rmse = mse**(0.5)  \n",
    "r2 = r2_score(y_test, y_pred)\n",
    "\n",
    "print(\"MAE:\", mae)\n",
    "print(\"MSE:\", mse)\n",
    "print(\"RMSE:\", rmse)\n",
    "print(\"R2 Score:\", r2)"
   ]
  },
  {
   "cell_type": "code",
   "execution_count": null,
   "id": "528c4af7",
   "metadata": {
    "papermill": {
     "duration": 0.006719,
     "end_time": "2024-10-22T19:46:45.844167",
     "exception": false,
     "start_time": "2024-10-22T19:46:45.837448",
     "status": "completed"
    },
    "tags": []
   },
   "outputs": [],
   "source": []
  }
 ],
 "metadata": {
  "kaggle": {
   "accelerator": "none",
   "dataSources": [
    {
     "datasetId": 13720,
     "sourceId": 18513,
     "sourceType": "datasetVersion"
    }
   ],
   "dockerImageVersionId": 30786,
   "isGpuEnabled": false,
   "isInternetEnabled": true,
   "language": "python",
   "sourceType": "notebook"
  },
  "kernelspec": {
   "display_name": "Python 3",
   "language": "python",
   "name": "python3"
  },
  "language_info": {
   "codemirror_mode": {
    "name": "ipython",
    "version": 3
   },
   "file_extension": ".py",
   "mimetype": "text/x-python",
   "name": "python",
   "nbconvert_exporter": "python",
   "pygments_lexer": "ipython3",
   "version": "3.10.14"
  },
  "papermill": {
   "default_parameters": {},
   "duration": 120.789302,
   "end_time": "2024-10-22T19:46:48.471326",
   "environment_variables": {},
   "exception": null,
   "input_path": "__notebook__.ipynb",
   "output_path": "__notebook__.ipynb",
   "parameters": {},
   "start_time": "2024-10-22T19:44:47.682024",
   "version": "2.6.0"
  }
 },
 "nbformat": 4,
 "nbformat_minor": 5
}
